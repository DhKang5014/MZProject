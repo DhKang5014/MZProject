{
 "cells": [
  {
   "cell_type": "code",
   "execution_count": 7,
   "metadata": {},
   "outputs": [],
   "source": [
    "import pandas as pd\n",
    "import numpy as np\n",
    "from sklearn.model_selection import train_test_split\n",
    "from sklearn.feature_extraction.text import CountVectorizer\n",
    "import warnings as wn\n",
    "wn.filterwarnings('ignore', category=DeprecationWarning)\n",
    "wn.filterwarnings('ignore', category=FutureWarning)\n",
    "wn.filterwarnings('ignore', category=UserWarning)\n",
    "wn.filterwarnings('ignore', category=RuntimeWarning)"
   ]
  },
  {
   "cell_type": "code",
   "execution_count": 8,
   "metadata": {},
   "outputs": [],
   "source": [
    "family=pd.read_csv('family.csv')\n",
    "mt = pd.read_csv('mt_final.csv')"
   ]
  },
  {
   "cell_type": "code",
   "execution_count": 9,
   "metadata": {},
   "outputs": [
    {
     "data": {
      "text/html": [
       "<div>\n",
       "<style scoped>\n",
       "    .dataframe tbody tr th:only-of-type {\n",
       "        vertical-align: middle;\n",
       "    }\n",
       "\n",
       "    .dataframe tbody tr th {\n",
       "        vertical-align: top;\n",
       "    }\n",
       "\n",
       "    .dataframe thead th {\n",
       "        text-align: right;\n",
       "    }\n",
       "</style>\n",
       "<table border=\"1\" class=\"dataframe\">\n",
       "  <thead>\n",
       "    <tr style=\"text-align: right;\">\n",
       "      <th></th>\n",
       "      <th>Unnamed: 0</th>\n",
       "      <th>0</th>\n",
       "      <th>분류</th>\n",
       "    </tr>\n",
       "  </thead>\n",
       "  <tbody>\n",
       "    <tr>\n",
       "      <th>0</th>\n",
       "      <td>0</td>\n",
       "      <td>떠나자! 아들!\\n\\n\\n\\n\\n처음 가 본 광주패밀리랜드   \\n\\n\\n\\n\\n\\...</td>\n",
       "      <td>관광명소</td>\n",
       "    </tr>\n",
       "    <tr>\n",
       "      <th>1</th>\n",
       "      <td>1</td>\n",
       "      <td>나들이\\n\\n\\n\\n\\n광주 패밀리랜드 눈썰매장 후기 \\n\\n\\n\\n\\n\\n쁨이맘\\...</td>\n",
       "      <td>관광명소</td>\n",
       "    </tr>\n",
       "    <tr>\n",
       "      <th>2</th>\n",
       "      <td>2</td>\n",
       "      <td>건강 이야기\\n\\n\\n\\n\\n광주패밀리랜드 카라반 에메랄드 1박2일여행 이야기(우치...</td>\n",
       "      <td>관광명소</td>\n",
       "    </tr>\n",
       "    <tr>\n",
       "      <th>3</th>\n",
       "      <td>3</td>\n",
       "      <td>여행을 꿈꾸다...\\n\\n\\n\\n\\n광주 패밀리랜드 아이들과 신나게 놀기 \\n\\n\\...</td>\n",
       "      <td>관광명소</td>\n",
       "    </tr>\n",
       "    <tr>\n",
       "      <th>4</th>\n",
       "      <td>4</td>\n",
       "      <td>국내여행 이야기\\n\\n\\n\\n\\n광주 패밀리랜드 우치공원 동물원 방문!! \\n\\n\\...</td>\n",
       "      <td>관광명소</td>\n",
       "    </tr>\n",
       "    <tr>\n",
       "      <th>...</th>\n",
       "      <td>...</td>\n",
       "      <td>...</td>\n",
       "      <td>...</td>\n",
       "    </tr>\n",
       "    <tr>\n",
       "      <th>702</th>\n",
       "      <td>1</td>\n",
       "      <td>광주패밀리랜드 대관람차(빅아이) 탑승후기\\n\\n\\n일상이야기\\n\\n\\t\\t\\t\\t\\...</td>\n",
       "      <td>관광명소</td>\n",
       "    </tr>\n",
       "    <tr>\n",
       "      <th>703</th>\n",
       "      <td>2</td>\n",
       "      <td>식사..☆\\n\\n\\n\\n\\n(북구 생용동) 패밀리랜드 맛집 채움늘 - 촌닭코스 \\n...</td>\n",
       "      <td>관광명소</td>\n",
       "    </tr>\n",
       "    <tr>\n",
       "      <th>704</th>\n",
       "      <td>3</td>\n",
       "      <td>할인정보\\n\\n\\n\\n\\n광주 패밀리랜드 카라반 캠핑장에서 힐링하자 \\n\\n\\n\\n...</td>\n",
       "      <td>관광명소</td>\n",
       "    </tr>\n",
       "    <tr>\n",
       "      <th>705</th>\n",
       "      <td>4</td>\n",
       "      <td>[광주패밀리랜드/우치동물원] 오랜만에 똥꼬와 쫑과 함께! 광주 패밀리랜드에 있는 우...</td>\n",
       "      <td>관광명소</td>\n",
       "    </tr>\n",
       "    <tr>\n",
       "      <th>706</th>\n",
       "      <td>5</td>\n",
       "      <td>똔이의 일상ღ\\n\\n\\n\\n\\n패밀리랜드 카라반 캠핑장에서 1박 2일🎡 \\n\\n\\n...</td>\n",
       "      <td>관광명소</td>\n",
       "    </tr>\n",
       "  </tbody>\n",
       "</table>\n",
       "<p>707 rows × 3 columns</p>\n",
       "</div>"
      ],
      "text/plain": [
       "     Unnamed: 0                                                  0    분류\n",
       "0             0  떠나자! 아들!\\n\\n\\n\\n\\n처음 가 본 광주패밀리랜드   \\n\\n\\n\\n\\n\\...  관광명소\n",
       "1             1  나들이\\n\\n\\n\\n\\n광주 패밀리랜드 눈썰매장 후기 \\n\\n\\n\\n\\n\\n쁨이맘\\...  관광명소\n",
       "2             2  건강 이야기\\n\\n\\n\\n\\n광주패밀리랜드 카라반 에메랄드 1박2일여행 이야기(우치...  관광명소\n",
       "3             3  여행을 꿈꾸다...\\n\\n\\n\\n\\n광주 패밀리랜드 아이들과 신나게 놀기 \\n\\n\\...  관광명소\n",
       "4             4  국내여행 이야기\\n\\n\\n\\n\\n광주 패밀리랜드 우치공원 동물원 방문!! \\n\\n\\...  관광명소\n",
       "..          ...                                                ...   ...\n",
       "702           1  광주패밀리랜드 대관람차(빅아이) 탑승후기\\n\\n\\n일상이야기\\n\\n\\t\\t\\t\\t\\...  관광명소\n",
       "703           2  식사..☆\\n\\n\\n\\n\\n(북구 생용동) 패밀리랜드 맛집 채움늘 - 촌닭코스 \\n...  관광명소\n",
       "704           3  할인정보\\n\\n\\n\\n\\n광주 패밀리랜드 카라반 캠핑장에서 힐링하자 \\n\\n\\n\\n...  관광명소\n",
       "705           4  [광주패밀리랜드/우치동물원] 오랜만에 똥꼬와 쫑과 함께! 광주 패밀리랜드에 있는 우...  관광명소\n",
       "706           5  똔이의 일상ღ\\n\\n\\n\\n\\n패밀리랜드 카라반 캠핑장에서 1박 2일🎡 \\n\\n\\n...  관광명소\n",
       "\n",
       "[707 rows x 3 columns]"
      ]
     },
     "execution_count": 9,
     "metadata": {},
     "output_type": "execute_result"
    }
   ],
   "source": [
    "family"
   ]
  },
  {
   "cell_type": "code",
   "execution_count": 10,
   "metadata": {},
   "outputs": [],
   "source": [
    "del family['Unnamed: 0']"
   ]
  },
  {
   "cell_type": "code",
   "execution_count": 11,
   "metadata": {},
   "outputs": [
    {
     "data": {
      "text/html": [
       "<div>\n",
       "<style scoped>\n",
       "    .dataframe tbody tr th:only-of-type {\n",
       "        vertical-align: middle;\n",
       "    }\n",
       "\n",
       "    .dataframe tbody tr th {\n",
       "        vertical-align: top;\n",
       "    }\n",
       "\n",
       "    .dataframe thead th {\n",
       "        text-align: right;\n",
       "    }\n",
       "</style>\n",
       "<table border=\"1\" class=\"dataframe\">\n",
       "  <thead>\n",
       "    <tr style=\"text-align: right;\">\n",
       "      <th></th>\n",
       "      <th>0</th>\n",
       "      <th>분류</th>\n",
       "    </tr>\n",
       "  </thead>\n",
       "  <tbody>\n",
       "    <tr>\n",
       "      <th>0</th>\n",
       "      <td>떠나자! 아들!\\n\\n\\n\\n\\n처음 가 본 광주패밀리랜드   \\n\\n\\n\\n\\n\\...</td>\n",
       "      <td>관광명소</td>\n",
       "    </tr>\n",
       "    <tr>\n",
       "      <th>1</th>\n",
       "      <td>나들이\\n\\n\\n\\n\\n광주 패밀리랜드 눈썰매장 후기 \\n\\n\\n\\n\\n\\n쁨이맘\\...</td>\n",
       "      <td>관광명소</td>\n",
       "    </tr>\n",
       "    <tr>\n",
       "      <th>2</th>\n",
       "      <td>건강 이야기\\n\\n\\n\\n\\n광주패밀리랜드 카라반 에메랄드 1박2일여행 이야기(우치...</td>\n",
       "      <td>관광명소</td>\n",
       "    </tr>\n",
       "    <tr>\n",
       "      <th>3</th>\n",
       "      <td>여행을 꿈꾸다...\\n\\n\\n\\n\\n광주 패밀리랜드 아이들과 신나게 놀기 \\n\\n\\...</td>\n",
       "      <td>관광명소</td>\n",
       "    </tr>\n",
       "    <tr>\n",
       "      <th>4</th>\n",
       "      <td>국내여행 이야기\\n\\n\\n\\n\\n광주 패밀리랜드 우치공원 동물원 방문!! \\n\\n\\...</td>\n",
       "      <td>관광명소</td>\n",
       "    </tr>\n",
       "    <tr>\n",
       "      <th>...</th>\n",
       "      <td>...</td>\n",
       "      <td>...</td>\n",
       "    </tr>\n",
       "    <tr>\n",
       "      <th>702</th>\n",
       "      <td>광주패밀리랜드 대관람차(빅아이) 탑승후기\\n\\n\\n일상이야기\\n\\n\\t\\t\\t\\t\\...</td>\n",
       "      <td>관광명소</td>\n",
       "    </tr>\n",
       "    <tr>\n",
       "      <th>703</th>\n",
       "      <td>식사..☆\\n\\n\\n\\n\\n(북구 생용동) 패밀리랜드 맛집 채움늘 - 촌닭코스 \\n...</td>\n",
       "      <td>관광명소</td>\n",
       "    </tr>\n",
       "    <tr>\n",
       "      <th>704</th>\n",
       "      <td>할인정보\\n\\n\\n\\n\\n광주 패밀리랜드 카라반 캠핑장에서 힐링하자 \\n\\n\\n\\n...</td>\n",
       "      <td>관광명소</td>\n",
       "    </tr>\n",
       "    <tr>\n",
       "      <th>705</th>\n",
       "      <td>[광주패밀리랜드/우치동물원] 오랜만에 똥꼬와 쫑과 함께! 광주 패밀리랜드에 있는 우...</td>\n",
       "      <td>관광명소</td>\n",
       "    </tr>\n",
       "    <tr>\n",
       "      <th>706</th>\n",
       "      <td>똔이의 일상ღ\\n\\n\\n\\n\\n패밀리랜드 카라반 캠핑장에서 1박 2일🎡 \\n\\n\\n...</td>\n",
       "      <td>관광명소</td>\n",
       "    </tr>\n",
       "  </tbody>\n",
       "</table>\n",
       "<p>707 rows × 2 columns</p>\n",
       "</div>"
      ],
      "text/plain": [
       "                                                     0    분류\n",
       "0    떠나자! 아들!\\n\\n\\n\\n\\n처음 가 본 광주패밀리랜드   \\n\\n\\n\\n\\n\\...  관광명소\n",
       "1    나들이\\n\\n\\n\\n\\n광주 패밀리랜드 눈썰매장 후기 \\n\\n\\n\\n\\n\\n쁨이맘\\...  관광명소\n",
       "2    건강 이야기\\n\\n\\n\\n\\n광주패밀리랜드 카라반 에메랄드 1박2일여행 이야기(우치...  관광명소\n",
       "3    여행을 꿈꾸다...\\n\\n\\n\\n\\n광주 패밀리랜드 아이들과 신나게 놀기 \\n\\n\\...  관광명소\n",
       "4    국내여행 이야기\\n\\n\\n\\n\\n광주 패밀리랜드 우치공원 동물원 방문!! \\n\\n\\...  관광명소\n",
       "..                                                 ...   ...\n",
       "702  광주패밀리랜드 대관람차(빅아이) 탑승후기\\n\\n\\n일상이야기\\n\\n\\t\\t\\t\\t\\...  관광명소\n",
       "703  식사..☆\\n\\n\\n\\n\\n(북구 생용동) 패밀리랜드 맛집 채움늘 - 촌닭코스 \\n...  관광명소\n",
       "704  할인정보\\n\\n\\n\\n\\n광주 패밀리랜드 카라반 캠핑장에서 힐링하자 \\n\\n\\n\\n...  관광명소\n",
       "705  [광주패밀리랜드/우치동물원] 오랜만에 똥꼬와 쫑과 함께! 광주 패밀리랜드에 있는 우...  관광명소\n",
       "706  똔이의 일상ღ\\n\\n\\n\\n\\n패밀리랜드 카라반 캠핑장에서 1박 2일🎡 \\n\\n\\n...  관광명소\n",
       "\n",
       "[707 rows x 2 columns]"
      ]
     },
     "execution_count": 11,
     "metadata": {},
     "output_type": "execute_result"
    }
   ],
   "source": [
    "family"
   ]
  },
  {
   "cell_type": "code",
   "execution_count": 12,
   "metadata": {},
   "outputs": [
    {
     "data": {
      "text/html": [
       "<div>\n",
       "<style scoped>\n",
       "    .dataframe tbody tr th:only-of-type {\n",
       "        vertical-align: middle;\n",
       "    }\n",
       "\n",
       "    .dataframe tbody tr th {\n",
       "        vertical-align: top;\n",
       "    }\n",
       "\n",
       "    .dataframe thead th {\n",
       "        text-align: right;\n",
       "    }\n",
       "</style>\n",
       "<table border=\"1\" class=\"dataframe\">\n",
       "  <thead>\n",
       "    <tr style=\"text-align: right;\">\n",
       "      <th></th>\n",
       "      <th>Unnamed: 0</th>\n",
       "      <th>0</th>\n",
       "    </tr>\n",
       "  </thead>\n",
       "  <tbody>\n",
       "    <tr>\n",
       "      <th>0</th>\n",
       "      <td>0</td>\n",
       "      <td>소셜기자단\\n\\n\\n\\n\\n자연 생태계와 자연·문화 경관이 담긴 곳, 무등산 국립공...</td>\n",
       "    </tr>\n",
       "    <tr>\n",
       "      <th>1</th>\n",
       "      <td>1</td>\n",
       "      <td>제5기 온라인 환경 홍보단\\n\\n\\n\\n\\n무등산국립공원 내도시락을부탁해 친환경도시...</td>\n",
       "    </tr>\n",
       "    <tr>\n",
       "      <th>2</th>\n",
       "      <td>2</td>\n",
       "      <td>여행\\n\\n\\n\\n\\n전남 화순군여행 무등산국립공원 수만리카페 편백나무숲 \\n\\n\\...</td>\n",
       "    </tr>\n",
       "    <tr>\n",
       "      <th>3</th>\n",
       "      <td>3</td>\n",
       "      <td>Review\\n\\n\\n\\n\\n광주 무등산 국립공원 중머리재 등산 코스 \\n\\n\\n\\...</td>\n",
       "    </tr>\n",
       "    <tr>\n",
       "      <th>4</th>\n",
       "      <td>4</td>\n",
       "      <td>전남 무등산\\n\\n\\n\\n\\n무등산 서석대 산행 [무등산국립공원] \\n\\n\\n\\n\\...</td>\n",
       "    </tr>\n",
       "    <tr>\n",
       "      <th>...</th>\n",
       "      <td>...</td>\n",
       "      <td>...</td>\n",
       "    </tr>\n",
       "    <tr>\n",
       "      <th>539</th>\n",
       "      <td>20</td>\n",
       "      <td>살균장치(자외선,염소투입)\\n\\n\\n\\n\\n\\n\\n\\n\\n\\n\\n자외선살균(녹조제거...</td>\n",
       "    </tr>\n",
       "    <tr>\n",
       "      <th>540</th>\n",
       "      <td>21</td>\n",
       "      <td>[ :: 삼아교통 :: ] 1187번 『 무등산국립공원(원효사) ↔ 덕흥동 』 BS...</td>\n",
       "    </tr>\n",
       "    <tr>\n",
       "      <th>541</th>\n",
       "      <td>22</td>\n",
       "      <td>[ :: 삼아교통 :: ] 운림50번 『 무등산국립공원(증심사) ↔ 세하동 』 저상...</td>\n",
       "    </tr>\n",
       "    <tr>\n",
       "      <th>542</th>\n",
       "      <td>23</td>\n",
       "      <td>[ :: 을로운수 :: ] 봉선76번 『 도 동 ↔ 무등산국립공원(증심사) 』 글로...</td>\n",
       "    </tr>\n",
       "    <tr>\n",
       "      <th>543</th>\n",
       "      <td>24</td>\n",
       "      <td>스타벅스-무등산국립공원, 멸종위기 동물보호 활동 전개\\n\\n\\n경제\\n\\n\\t\\t\\...</td>\n",
       "    </tr>\n",
       "  </tbody>\n",
       "</table>\n",
       "<p>544 rows × 2 columns</p>\n",
       "</div>"
      ],
      "text/plain": [
       "     Unnamed: 0                                                  0\n",
       "0             0  소셜기자단\\n\\n\\n\\n\\n자연 생태계와 자연·문화 경관이 담긴 곳, 무등산 국립공...\n",
       "1             1  제5기 온라인 환경 홍보단\\n\\n\\n\\n\\n무등산국립공원 내도시락을부탁해 친환경도시...\n",
       "2             2  여행\\n\\n\\n\\n\\n전남 화순군여행 무등산국립공원 수만리카페 편백나무숲 \\n\\n\\...\n",
       "3             3  Review\\n\\n\\n\\n\\n광주 무등산 국립공원 중머리재 등산 코스 \\n\\n\\n\\...\n",
       "4             4  전남 무등산\\n\\n\\n\\n\\n무등산 서석대 산행 [무등산국립공원] \\n\\n\\n\\n\\...\n",
       "..          ...                                                ...\n",
       "539          20  살균장치(자외선,염소투입)\\n\\n\\n\\n\\n\\n\\n\\n\\n\\n\\n자외선살균(녹조제거...\n",
       "540          21  [ :: 삼아교통 :: ] 1187번 『 무등산국립공원(원효사) ↔ 덕흥동 』 BS...\n",
       "541          22  [ :: 삼아교통 :: ] 운림50번 『 무등산국립공원(증심사) ↔ 세하동 』 저상...\n",
       "542          23  [ :: 을로운수 :: ] 봉선76번 『 도 동 ↔ 무등산국립공원(증심사) 』 글로...\n",
       "543          24  스타벅스-무등산국립공원, 멸종위기 동물보호 활동 전개\\n\\n\\n경제\\n\\n\\t\\t\\...\n",
       "\n",
       "[544 rows x 2 columns]"
      ]
     },
     "execution_count": 12,
     "metadata": {},
     "output_type": "execute_result"
    }
   ],
   "source": [
    "mt"
   ]
  },
  {
   "cell_type": "code",
   "execution_count": 13,
   "metadata": {},
   "outputs": [],
   "source": [
    "del mt['Unnamed: 0']"
   ]
  },
  {
   "cell_type": "code",
   "execution_count": 14,
   "metadata": {},
   "outputs": [
    {
     "data": {
      "text/html": [
       "<div>\n",
       "<style scoped>\n",
       "    .dataframe tbody tr th:only-of-type {\n",
       "        vertical-align: middle;\n",
       "    }\n",
       "\n",
       "    .dataframe tbody tr th {\n",
       "        vertical-align: top;\n",
       "    }\n",
       "\n",
       "    .dataframe thead th {\n",
       "        text-align: right;\n",
       "    }\n",
       "</style>\n",
       "<table border=\"1\" class=\"dataframe\">\n",
       "  <thead>\n",
       "    <tr style=\"text-align: right;\">\n",
       "      <th></th>\n",
       "      <th>0</th>\n",
       "    </tr>\n",
       "  </thead>\n",
       "  <tbody>\n",
       "    <tr>\n",
       "      <th>0</th>\n",
       "      <td>소셜기자단\\n\\n\\n\\n\\n자연 생태계와 자연·문화 경관이 담긴 곳, 무등산 국립공...</td>\n",
       "    </tr>\n",
       "    <tr>\n",
       "      <th>1</th>\n",
       "      <td>제5기 온라인 환경 홍보단\\n\\n\\n\\n\\n무등산국립공원 내도시락을부탁해 친환경도시...</td>\n",
       "    </tr>\n",
       "    <tr>\n",
       "      <th>2</th>\n",
       "      <td>여행\\n\\n\\n\\n\\n전남 화순군여행 무등산국립공원 수만리카페 편백나무숲 \\n\\n\\...</td>\n",
       "    </tr>\n",
       "    <tr>\n",
       "      <th>3</th>\n",
       "      <td>Review\\n\\n\\n\\n\\n광주 무등산 국립공원 중머리재 등산 코스 \\n\\n\\n\\...</td>\n",
       "    </tr>\n",
       "    <tr>\n",
       "      <th>4</th>\n",
       "      <td>전남 무등산\\n\\n\\n\\n\\n무등산 서석대 산행 [무등산국립공원] \\n\\n\\n\\n\\...</td>\n",
       "    </tr>\n",
       "    <tr>\n",
       "      <th>...</th>\n",
       "      <td>...</td>\n",
       "    </tr>\n",
       "    <tr>\n",
       "      <th>539</th>\n",
       "      <td>살균장치(자외선,염소투입)\\n\\n\\n\\n\\n\\n\\n\\n\\n\\n\\n자외선살균(녹조제거...</td>\n",
       "    </tr>\n",
       "    <tr>\n",
       "      <th>540</th>\n",
       "      <td>[ :: 삼아교통 :: ] 1187번 『 무등산국립공원(원효사) ↔ 덕흥동 』 BS...</td>\n",
       "    </tr>\n",
       "    <tr>\n",
       "      <th>541</th>\n",
       "      <td>[ :: 삼아교통 :: ] 운림50번 『 무등산국립공원(증심사) ↔ 세하동 』 저상...</td>\n",
       "    </tr>\n",
       "    <tr>\n",
       "      <th>542</th>\n",
       "      <td>[ :: 을로운수 :: ] 봉선76번 『 도 동 ↔ 무등산국립공원(증심사) 』 글로...</td>\n",
       "    </tr>\n",
       "    <tr>\n",
       "      <th>543</th>\n",
       "      <td>스타벅스-무등산국립공원, 멸종위기 동물보호 활동 전개\\n\\n\\n경제\\n\\n\\t\\t\\...</td>\n",
       "    </tr>\n",
       "  </tbody>\n",
       "</table>\n",
       "<p>544 rows × 1 columns</p>\n",
       "</div>"
      ],
      "text/plain": [
       "                                                     0\n",
       "0    소셜기자단\\n\\n\\n\\n\\n자연 생태계와 자연·문화 경관이 담긴 곳, 무등산 국립공...\n",
       "1    제5기 온라인 환경 홍보단\\n\\n\\n\\n\\n무등산국립공원 내도시락을부탁해 친환경도시...\n",
       "2    여행\\n\\n\\n\\n\\n전남 화순군여행 무등산국립공원 수만리카페 편백나무숲 \\n\\n\\...\n",
       "3    Review\\n\\n\\n\\n\\n광주 무등산 국립공원 중머리재 등산 코스 \\n\\n\\n\\...\n",
       "4    전남 무등산\\n\\n\\n\\n\\n무등산 서석대 산행 [무등산국립공원] \\n\\n\\n\\n\\...\n",
       "..                                                 ...\n",
       "539  살균장치(자외선,염소투입)\\n\\n\\n\\n\\n\\n\\n\\n\\n\\n\\n자외선살균(녹조제거...\n",
       "540  [ :: 삼아교통 :: ] 1187번 『 무등산국립공원(원효사) ↔ 덕흥동 』 BS...\n",
       "541  [ :: 삼아교통 :: ] 운림50번 『 무등산국립공원(증심사) ↔ 세하동 』 저상...\n",
       "542  [ :: 을로운수 :: ] 봉선76번 『 도 동 ↔ 무등산국립공원(증심사) 』 글로...\n",
       "543  스타벅스-무등산국립공원, 멸종위기 동물보호 활동 전개\\n\\n\\n경제\\n\\n\\t\\t\\...\n",
       "\n",
       "[544 rows x 1 columns]"
      ]
     },
     "execution_count": 14,
     "metadata": {},
     "output_type": "execute_result"
    }
   ],
   "source": [
    "mt"
   ]
  },
  {
   "cell_type": "code",
   "execution_count": 15,
   "metadata": {},
   "outputs": [],
   "source": [
    "mt['분류']='자연'"
   ]
  },
  {
   "cell_type": "code",
   "execution_count": 16,
   "metadata": {},
   "outputs": [
    {
     "data": {
      "text/html": [
       "<div>\n",
       "<style scoped>\n",
       "    .dataframe tbody tr th:only-of-type {\n",
       "        vertical-align: middle;\n",
       "    }\n",
       "\n",
       "    .dataframe tbody tr th {\n",
       "        vertical-align: top;\n",
       "    }\n",
       "\n",
       "    .dataframe thead th {\n",
       "        text-align: right;\n",
       "    }\n",
       "</style>\n",
       "<table border=\"1\" class=\"dataframe\">\n",
       "  <thead>\n",
       "    <tr style=\"text-align: right;\">\n",
       "      <th></th>\n",
       "      <th>0</th>\n",
       "      <th>분류</th>\n",
       "    </tr>\n",
       "  </thead>\n",
       "  <tbody>\n",
       "    <tr>\n",
       "      <th>0</th>\n",
       "      <td>소셜기자단\\n\\n\\n\\n\\n자연 생태계와 자연·문화 경관이 담긴 곳, 무등산 국립공...</td>\n",
       "      <td>자연</td>\n",
       "    </tr>\n",
       "    <tr>\n",
       "      <th>1</th>\n",
       "      <td>제5기 온라인 환경 홍보단\\n\\n\\n\\n\\n무등산국립공원 내도시락을부탁해 친환경도시...</td>\n",
       "      <td>자연</td>\n",
       "    </tr>\n",
       "    <tr>\n",
       "      <th>2</th>\n",
       "      <td>여행\\n\\n\\n\\n\\n전남 화순군여행 무등산국립공원 수만리카페 편백나무숲 \\n\\n\\...</td>\n",
       "      <td>자연</td>\n",
       "    </tr>\n",
       "    <tr>\n",
       "      <th>3</th>\n",
       "      <td>Review\\n\\n\\n\\n\\n광주 무등산 국립공원 중머리재 등산 코스 \\n\\n\\n\\...</td>\n",
       "      <td>자연</td>\n",
       "    </tr>\n",
       "    <tr>\n",
       "      <th>4</th>\n",
       "      <td>전남 무등산\\n\\n\\n\\n\\n무등산 서석대 산행 [무등산국립공원] \\n\\n\\n\\n\\...</td>\n",
       "      <td>자연</td>\n",
       "    </tr>\n",
       "    <tr>\n",
       "      <th>...</th>\n",
       "      <td>...</td>\n",
       "      <td>...</td>\n",
       "    </tr>\n",
       "    <tr>\n",
       "      <th>539</th>\n",
       "      <td>살균장치(자외선,염소투입)\\n\\n\\n\\n\\n\\n\\n\\n\\n\\n\\n자외선살균(녹조제거...</td>\n",
       "      <td>자연</td>\n",
       "    </tr>\n",
       "    <tr>\n",
       "      <th>540</th>\n",
       "      <td>[ :: 삼아교통 :: ] 1187번 『 무등산국립공원(원효사) ↔ 덕흥동 』 BS...</td>\n",
       "      <td>자연</td>\n",
       "    </tr>\n",
       "    <tr>\n",
       "      <th>541</th>\n",
       "      <td>[ :: 삼아교통 :: ] 운림50번 『 무등산국립공원(증심사) ↔ 세하동 』 저상...</td>\n",
       "      <td>자연</td>\n",
       "    </tr>\n",
       "    <tr>\n",
       "      <th>542</th>\n",
       "      <td>[ :: 을로운수 :: ] 봉선76번 『 도 동 ↔ 무등산국립공원(증심사) 』 글로...</td>\n",
       "      <td>자연</td>\n",
       "    </tr>\n",
       "    <tr>\n",
       "      <th>543</th>\n",
       "      <td>스타벅스-무등산국립공원, 멸종위기 동물보호 활동 전개\\n\\n\\n경제\\n\\n\\t\\t\\...</td>\n",
       "      <td>자연</td>\n",
       "    </tr>\n",
       "  </tbody>\n",
       "</table>\n",
       "<p>544 rows × 2 columns</p>\n",
       "</div>"
      ],
      "text/plain": [
       "                                                     0  분류\n",
       "0    소셜기자단\\n\\n\\n\\n\\n자연 생태계와 자연·문화 경관이 담긴 곳, 무등산 국립공...  자연\n",
       "1    제5기 온라인 환경 홍보단\\n\\n\\n\\n\\n무등산국립공원 내도시락을부탁해 친환경도시...  자연\n",
       "2    여행\\n\\n\\n\\n\\n전남 화순군여행 무등산국립공원 수만리카페 편백나무숲 \\n\\n\\...  자연\n",
       "3    Review\\n\\n\\n\\n\\n광주 무등산 국립공원 중머리재 등산 코스 \\n\\n\\n\\...  자연\n",
       "4    전남 무등산\\n\\n\\n\\n\\n무등산 서석대 산행 [무등산국립공원] \\n\\n\\n\\n\\...  자연\n",
       "..                                                 ...  ..\n",
       "539  살균장치(자외선,염소투입)\\n\\n\\n\\n\\n\\n\\n\\n\\n\\n\\n자외선살균(녹조제거...  자연\n",
       "540  [ :: 삼아교통 :: ] 1187번 『 무등산국립공원(원효사) ↔ 덕흥동 』 BS...  자연\n",
       "541  [ :: 삼아교통 :: ] 운림50번 『 무등산국립공원(증심사) ↔ 세하동 』 저상...  자연\n",
       "542  [ :: 을로운수 :: ] 봉선76번 『 도 동 ↔ 무등산국립공원(증심사) 』 글로...  자연\n",
       "543  스타벅스-무등산국립공원, 멸종위기 동물보호 활동 전개\\n\\n\\n경제\\n\\n\\t\\t\\...  자연\n",
       "\n",
       "[544 rows x 2 columns]"
      ]
     },
     "execution_count": 16,
     "metadata": {},
     "output_type": "execute_result"
    }
   ],
   "source": [
    "mt"
   ]
  },
  {
   "cell_type": "markdown",
   "metadata": {},
   "source": [
    "# 패밀리랜드와 무등산 파일 합치기"
   ]
  },
  {
   "cell_type": "code",
   "execution_count": 17,
   "metadata": {},
   "outputs": [],
   "source": [
    "total = []"
   ]
  },
  {
   "cell_type": "code",
   "execution_count": 18,
   "metadata": {},
   "outputs": [],
   "source": [
    "total.append(mt)\n",
    "total.append(family)"
   ]
  },
  {
   "cell_type": "code",
   "execution_count": 19,
   "metadata": {},
   "outputs": [
    {
     "data": {
      "text/html": [
       "<div>\n",
       "<style scoped>\n",
       "    .dataframe tbody tr th:only-of-type {\n",
       "        vertical-align: middle;\n",
       "    }\n",
       "\n",
       "    .dataframe tbody tr th {\n",
       "        vertical-align: top;\n",
       "    }\n",
       "\n",
       "    .dataframe thead th {\n",
       "        text-align: right;\n",
       "    }\n",
       "</style>\n",
       "<table border=\"1\" class=\"dataframe\">\n",
       "  <thead>\n",
       "    <tr style=\"text-align: right;\">\n",
       "      <th></th>\n",
       "      <th>0</th>\n",
       "      <th>분류</th>\n",
       "    </tr>\n",
       "  </thead>\n",
       "  <tbody>\n",
       "    <tr>\n",
       "      <th>0</th>\n",
       "      <td>소셜기자단\\n\\n\\n\\n\\n자연 생태계와 자연·문화 경관이 담긴 곳, 무등산 국립공...</td>\n",
       "      <td>자연</td>\n",
       "    </tr>\n",
       "    <tr>\n",
       "      <th>1</th>\n",
       "      <td>제5기 온라인 환경 홍보단\\n\\n\\n\\n\\n무등산국립공원 내도시락을부탁해 친환경도시...</td>\n",
       "      <td>자연</td>\n",
       "    </tr>\n",
       "    <tr>\n",
       "      <th>2</th>\n",
       "      <td>여행\\n\\n\\n\\n\\n전남 화순군여행 무등산국립공원 수만리카페 편백나무숲 \\n\\n\\...</td>\n",
       "      <td>자연</td>\n",
       "    </tr>\n",
       "    <tr>\n",
       "      <th>3</th>\n",
       "      <td>Review\\n\\n\\n\\n\\n광주 무등산 국립공원 중머리재 등산 코스 \\n\\n\\n\\...</td>\n",
       "      <td>자연</td>\n",
       "    </tr>\n",
       "    <tr>\n",
       "      <th>4</th>\n",
       "      <td>전남 무등산\\n\\n\\n\\n\\n무등산 서석대 산행 [무등산국립공원] \\n\\n\\n\\n\\...</td>\n",
       "      <td>자연</td>\n",
       "    </tr>\n",
       "    <tr>\n",
       "      <th>...</th>\n",
       "      <td>...</td>\n",
       "      <td>...</td>\n",
       "    </tr>\n",
       "    <tr>\n",
       "      <th>702</th>\n",
       "      <td>광주패밀리랜드 대관람차(빅아이) 탑승후기\\n\\n\\n일상이야기\\n\\n\\t\\t\\t\\t\\...</td>\n",
       "      <td>관광명소</td>\n",
       "    </tr>\n",
       "    <tr>\n",
       "      <th>703</th>\n",
       "      <td>식사..☆\\n\\n\\n\\n\\n(북구 생용동) 패밀리랜드 맛집 채움늘 - 촌닭코스 \\n...</td>\n",
       "      <td>관광명소</td>\n",
       "    </tr>\n",
       "    <tr>\n",
       "      <th>704</th>\n",
       "      <td>할인정보\\n\\n\\n\\n\\n광주 패밀리랜드 카라반 캠핑장에서 힐링하자 \\n\\n\\n\\n...</td>\n",
       "      <td>관광명소</td>\n",
       "    </tr>\n",
       "    <tr>\n",
       "      <th>705</th>\n",
       "      <td>[광주패밀리랜드/우치동물원] 오랜만에 똥꼬와 쫑과 함께! 광주 패밀리랜드에 있는 우...</td>\n",
       "      <td>관광명소</td>\n",
       "    </tr>\n",
       "    <tr>\n",
       "      <th>706</th>\n",
       "      <td>똔이의 일상ღ\\n\\n\\n\\n\\n패밀리랜드 카라반 캠핑장에서 1박 2일🎡 \\n\\n\\n...</td>\n",
       "      <td>관광명소</td>\n",
       "    </tr>\n",
       "  </tbody>\n",
       "</table>\n",
       "<p>1251 rows × 2 columns</p>\n",
       "</div>"
      ],
      "text/plain": [
       "                                                     0    분류\n",
       "0    소셜기자단\\n\\n\\n\\n\\n자연 생태계와 자연·문화 경관이 담긴 곳, 무등산 국립공...    자연\n",
       "1    제5기 온라인 환경 홍보단\\n\\n\\n\\n\\n무등산국립공원 내도시락을부탁해 친환경도시...    자연\n",
       "2    여행\\n\\n\\n\\n\\n전남 화순군여행 무등산국립공원 수만리카페 편백나무숲 \\n\\n\\...    자연\n",
       "3    Review\\n\\n\\n\\n\\n광주 무등산 국립공원 중머리재 등산 코스 \\n\\n\\n\\...    자연\n",
       "4    전남 무등산\\n\\n\\n\\n\\n무등산 서석대 산행 [무등산국립공원] \\n\\n\\n\\n\\...    자연\n",
       "..                                                 ...   ...\n",
       "702  광주패밀리랜드 대관람차(빅아이) 탑승후기\\n\\n\\n일상이야기\\n\\n\\t\\t\\t\\t\\...  관광명소\n",
       "703  식사..☆\\n\\n\\n\\n\\n(북구 생용동) 패밀리랜드 맛집 채움늘 - 촌닭코스 \\n...  관광명소\n",
       "704  할인정보\\n\\n\\n\\n\\n광주 패밀리랜드 카라반 캠핑장에서 힐링하자 \\n\\n\\n\\n...  관광명소\n",
       "705  [광주패밀리랜드/우치동물원] 오랜만에 똥꼬와 쫑과 함께! 광주 패밀리랜드에 있는 우...  관광명소\n",
       "706  똔이의 일상ღ\\n\\n\\n\\n\\n패밀리랜드 카라반 캠핑장에서 1박 2일🎡 \\n\\n\\n...  관광명소\n",
       "\n",
       "[1251 rows x 2 columns]"
      ]
     },
     "execution_count": 19,
     "metadata": {},
     "output_type": "execute_result"
    }
   ],
   "source": [
    "#total에 패밀리랜드와 무등산 파일을 total로 합침\n",
    "total=pd.concat(total)\n",
    "total"
   ]
  },
  {
   "cell_type": "code",
   "execution_count": 20,
   "metadata": {},
   "outputs": [
    {
     "data": {
      "text/html": [
       "<div>\n",
       "<style scoped>\n",
       "    .dataframe tbody tr th:only-of-type {\n",
       "        vertical-align: middle;\n",
       "    }\n",
       "\n",
       "    .dataframe tbody tr th {\n",
       "        vertical-align: top;\n",
       "    }\n",
       "\n",
       "    .dataframe thead th {\n",
       "        text-align: right;\n",
       "    }\n",
       "</style>\n",
       "<table border=\"1\" class=\"dataframe\">\n",
       "  <thead>\n",
       "    <tr style=\"text-align: right;\">\n",
       "      <th></th>\n",
       "      <th>0</th>\n",
       "      <th>분류</th>\n",
       "    </tr>\n",
       "  </thead>\n",
       "  <tbody>\n",
       "    <tr>\n",
       "      <th>0</th>\n",
       "      <td>소셜기자단\\n\\n\\n\\n\\n자연 생태계와 자연·문화 경관이 담긴 곳, 무등산 국립공...</td>\n",
       "      <td>자연</td>\n",
       "    </tr>\n",
       "    <tr>\n",
       "      <th>1</th>\n",
       "      <td>제5기 온라인 환경 홍보단\\n\\n\\n\\n\\n무등산국립공원 내도시락을부탁해 친환경도시...</td>\n",
       "      <td>자연</td>\n",
       "    </tr>\n",
       "    <tr>\n",
       "      <th>2</th>\n",
       "      <td>여행\\n\\n\\n\\n\\n전남 화순군여행 무등산국립공원 수만리카페 편백나무숲 \\n\\n\\...</td>\n",
       "      <td>자연</td>\n",
       "    </tr>\n",
       "    <tr>\n",
       "      <th>3</th>\n",
       "      <td>Review\\n\\n\\n\\n\\n광주 무등산 국립공원 중머리재 등산 코스 \\n\\n\\n\\...</td>\n",
       "      <td>자연</td>\n",
       "    </tr>\n",
       "    <tr>\n",
       "      <th>4</th>\n",
       "      <td>전남 무등산\\n\\n\\n\\n\\n무등산 서석대 산행 [무등산국립공원] \\n\\n\\n\\n\\...</td>\n",
       "      <td>자연</td>\n",
       "    </tr>\n",
       "    <tr>\n",
       "      <th>...</th>\n",
       "      <td>...</td>\n",
       "      <td>...</td>\n",
       "    </tr>\n",
       "    <tr>\n",
       "      <th>702</th>\n",
       "      <td>광주패밀리랜드 대관람차(빅아이) 탑승후기\\n\\n\\n일상이야기\\n\\n\\t\\t\\t\\t\\...</td>\n",
       "      <td>관광명소</td>\n",
       "    </tr>\n",
       "    <tr>\n",
       "      <th>703</th>\n",
       "      <td>식사..☆\\n\\n\\n\\n\\n(북구 생용동) 패밀리랜드 맛집 채움늘 - 촌닭코스 \\n...</td>\n",
       "      <td>관광명소</td>\n",
       "    </tr>\n",
       "    <tr>\n",
       "      <th>704</th>\n",
       "      <td>할인정보\\n\\n\\n\\n\\n광주 패밀리랜드 카라반 캠핑장에서 힐링하자 \\n\\n\\n\\n...</td>\n",
       "      <td>관광명소</td>\n",
       "    </tr>\n",
       "    <tr>\n",
       "      <th>705</th>\n",
       "      <td>[광주패밀리랜드/우치동물원] 오랜만에 똥꼬와 쫑과 함께! 광주 패밀리랜드에 있는 우...</td>\n",
       "      <td>관광명소</td>\n",
       "    </tr>\n",
       "    <tr>\n",
       "      <th>706</th>\n",
       "      <td>똔이의 일상ღ\\n\\n\\n\\n\\n패밀리랜드 카라반 캠핑장에서 1박 2일🎡 \\n\\n\\n...</td>\n",
       "      <td>관광명소</td>\n",
       "    </tr>\n",
       "  </tbody>\n",
       "</table>\n",
       "<p>1251 rows × 2 columns</p>\n",
       "</div>"
      ],
      "text/plain": [
       "                                                     0    분류\n",
       "0    소셜기자단\\n\\n\\n\\n\\n자연 생태계와 자연·문화 경관이 담긴 곳, 무등산 국립공...    자연\n",
       "1    제5기 온라인 환경 홍보단\\n\\n\\n\\n\\n무등산국립공원 내도시락을부탁해 친환경도시...    자연\n",
       "2    여행\\n\\n\\n\\n\\n전남 화순군여행 무등산국립공원 수만리카페 편백나무숲 \\n\\n\\...    자연\n",
       "3    Review\\n\\n\\n\\n\\n광주 무등산 국립공원 중머리재 등산 코스 \\n\\n\\n\\...    자연\n",
       "4    전남 무등산\\n\\n\\n\\n\\n무등산 서석대 산행 [무등산국립공원] \\n\\n\\n\\n\\...    자연\n",
       "..                                                 ...   ...\n",
       "702  광주패밀리랜드 대관람차(빅아이) 탑승후기\\n\\n\\n일상이야기\\n\\n\\t\\t\\t\\t\\...  관광명소\n",
       "703  식사..☆\\n\\n\\n\\n\\n(북구 생용동) 패밀리랜드 맛집 채움늘 - 촌닭코스 \\n...  관광명소\n",
       "704  할인정보\\n\\n\\n\\n\\n광주 패밀리랜드 카라반 캠핑장에서 힐링하자 \\n\\n\\n\\n...  관광명소\n",
       "705  [광주패밀리랜드/우치동물원] 오랜만에 똥꼬와 쫑과 함께! 광주 패밀리랜드에 있는 우...  관광명소\n",
       "706  똔이의 일상ღ\\n\\n\\n\\n\\n패밀리랜드 카라반 캠핑장에서 1박 2일🎡 \\n\\n\\n...  관광명소\n",
       "\n",
       "[1251 rows x 2 columns]"
      ]
     },
     "execution_count": 20,
     "metadata": {},
     "output_type": "execute_result"
    }
   ],
   "source": [
    "total"
   ]
  },
  {
   "cell_type": "code",
   "execution_count": 21,
   "metadata": {},
   "outputs": [],
   "source": [
    "#total을 분류\n",
    "train, test = train_test_split(total, test_size=0.3, random_state=3)"
   ]
  },
  {
   "cell_type": "code",
   "execution_count": 22,
   "metadata": {},
   "outputs": [
    {
     "name": "stdout",
     "output_type": "stream",
     "text": [
      "(875, 2)\n",
      "(376, 2)\n"
     ]
    }
   ],
   "source": [
    "print(train.shape)\n",
    "print(test.shape)"
   ]
  },
  {
   "cell_type": "code",
   "execution_count": 23,
   "metadata": {},
   "outputs": [
    {
     "data": {
      "text/html": [
       "<div>\n",
       "<style scoped>\n",
       "    .dataframe tbody tr th:only-of-type {\n",
       "        vertical-align: middle;\n",
       "    }\n",
       "\n",
       "    .dataframe tbody tr th {\n",
       "        vertical-align: top;\n",
       "    }\n",
       "\n",
       "    .dataframe thead th {\n",
       "        text-align: right;\n",
       "    }\n",
       "</style>\n",
       "<table border=\"1\" class=\"dataframe\">\n",
       "  <thead>\n",
       "    <tr style=\"text-align: right;\">\n",
       "      <th></th>\n",
       "      <th>0</th>\n",
       "      <th>분류</th>\n",
       "    </tr>\n",
       "  </thead>\n",
       "  <tbody>\n",
       "    <tr>\n",
       "      <th>537</th>\n",
       "      <td>발키리가 간다,광주 무등산 등산,무등산국립공원,첫 등산을 하다\\n\\n\\n렌즈미상무지...</td>\n",
       "      <td>자연</td>\n",
       "    </tr>\n",
       "    <tr>\n",
       "      <th>389</th>\n",
       "      <td>물넘고 산넘어 \\n\\n\\n\\n\\n광주 무등산 국립공원(안양산- 백마능선- 장불재- ...</td>\n",
       "      <td>자연</td>\n",
       "    </tr>\n",
       "    <tr>\n",
       "      <th>693</th>\n",
       "      <td>Ever Korea\\n\\n\\n\\n\\n광주 패밀리랜드 스냅 :: 사진찍기 좋은 데이트...</td>\n",
       "      <td>관광명소</td>\n",
       "    </tr>\n",
       "    <tr>\n",
       "      <th>597</th>\n",
       "      <td>코에 바람넣기\\n\\n\\n\\n\\n광주 패밀리랜드   \\n\\n\\n\\n\\n\\n울랄라\\n\\...</td>\n",
       "      <td>관광명소</td>\n",
       "    </tr>\n",
       "    <tr>\n",
       "      <th>516</th>\n",
       "      <td>무등산 국립공원\\n\\n\\n레저산업 여행기\\n\\n\\t\\t\\t\\t\\t\\t\\t\\t\\t\\t...</td>\n",
       "      <td>자연</td>\n",
       "    </tr>\n",
       "    <tr>\n",
       "      <th>...</th>\n",
       "      <td>...</td>\n",
       "      <td>...</td>\n",
       "    </tr>\n",
       "    <tr>\n",
       "      <th>477</th>\n",
       "      <td>여행 / 카페\\n\\n\\n\\n\\n광주 패밀리랜드, 광주 24시간 카페 갤러리 24 \\...</td>\n",
       "      <td>관광명소</td>\n",
       "    </tr>\n",
       "    <tr>\n",
       "      <th>245</th>\n",
       "      <td>[광주 패밀리랜드] 오치동 패밀리랜드 광주 동물원\\n\\n\\n노는중\\n\\t\\t\\t\\t...</td>\n",
       "      <td>관광명소</td>\n",
       "    </tr>\n",
       "    <tr>\n",
       "      <th>256</th>\n",
       "      <td>충청-전라\\n\\n\\n\\n\\n광주:무등산 국립공원 2020년 4월 원효사에서 증심사 ...</td>\n",
       "      <td>자연</td>\n",
       "    </tr>\n",
       "    <tr>\n",
       "      <th>424</th>\n",
       "      <td>08년 05월 10일 토요일 패밀리랜드에서 ④\\n\\n\\n사소한 일상\\n\\n\\t\\t\\...</td>\n",
       "      <td>관광명소</td>\n",
       "    </tr>\n",
       "    <tr>\n",
       "      <th>408</th>\n",
       "      <td>♩ 쭈니+져니\\n\\n\\n\\n\\n\\n\\n\\n\\n\\n\\n쭈니&amp;져니의 주말일상 !♥ (곱...</td>\n",
       "      <td>관광명소</td>\n",
       "    </tr>\n",
       "  </tbody>\n",
       "</table>\n",
       "<p>875 rows × 2 columns</p>\n",
       "</div>"
      ],
      "text/plain": [
       "                                                     0    분류\n",
       "537  발키리가 간다,광주 무등산 등산,무등산국립공원,첫 등산을 하다\\n\\n\\n렌즈미상무지...    자연\n",
       "389  물넘고 산넘어 \\n\\n\\n\\n\\n광주 무등산 국립공원(안양산- 백마능선- 장불재- ...    자연\n",
       "693  Ever Korea\\n\\n\\n\\n\\n광주 패밀리랜드 스냅 :: 사진찍기 좋은 데이트...  관광명소\n",
       "597  코에 바람넣기\\n\\n\\n\\n\\n광주 패밀리랜드   \\n\\n\\n\\n\\n\\n울랄라\\n\\...  관광명소\n",
       "516  무등산 국립공원\\n\\n\\n레저산업 여행기\\n\\n\\t\\t\\t\\t\\t\\t\\t\\t\\t\\t...    자연\n",
       "..                                                 ...   ...\n",
       "477  여행 / 카페\\n\\n\\n\\n\\n광주 패밀리랜드, 광주 24시간 카페 갤러리 24 \\...  관광명소\n",
       "245  [광주 패밀리랜드] 오치동 패밀리랜드 광주 동물원\\n\\n\\n노는중\\n\\t\\t\\t\\t...  관광명소\n",
       "256  충청-전라\\n\\n\\n\\n\\n광주:무등산 국립공원 2020년 4월 원효사에서 증심사 ...    자연\n",
       "424  08년 05월 10일 토요일 패밀리랜드에서 ④\\n\\n\\n사소한 일상\\n\\n\\t\\t\\...  관광명소\n",
       "408  ♩ 쭈니+져니\\n\\n\\n\\n\\n\\n\\n\\n\\n\\n\\n쭈니&져니의 주말일상 !♥ (곱...  관광명소\n",
       "\n",
       "[875 rows x 2 columns]"
      ]
     },
     "execution_count": 23,
     "metadata": {},
     "output_type": "execute_result"
    }
   ],
   "source": [
    "train"
   ]
  },
  {
   "cell_type": "code",
   "execution_count": 24,
   "metadata": {},
   "outputs": [
    {
     "data": {
      "text/html": [
       "<div>\n",
       "<style scoped>\n",
       "    .dataframe tbody tr th:only-of-type {\n",
       "        vertical-align: middle;\n",
       "    }\n",
       "\n",
       "    .dataframe tbody tr th {\n",
       "        vertical-align: top;\n",
       "    }\n",
       "\n",
       "    .dataframe thead th {\n",
       "        text-align: right;\n",
       "    }\n",
       "</style>\n",
       "<table border=\"1\" class=\"dataframe\">\n",
       "  <thead>\n",
       "    <tr style=\"text-align: right;\">\n",
       "      <th></th>\n",
       "      <th>0</th>\n",
       "      <th>분류</th>\n",
       "    </tr>\n",
       "  </thead>\n",
       "  <tbody>\n",
       "    <tr>\n",
       "      <th>431</th>\n",
       "      <td>광주 놀이 스팟 ÷p\\n\\n\\n\\n\\n[광주] 패밀리랜드 박치기왕들과 피크닉놀이 \\...</td>\n",
       "      <td>관광명소</td>\n",
       "    </tr>\n",
       "    <tr>\n",
       "      <th>241</th>\n",
       "      <td>초딩들과 함께한 광주 놀이공원/광주패밀리랜드\"\\n\\n\\n일상,SoSo한\\n\\t\\t\\...</td>\n",
       "      <td>관광명소</td>\n",
       "    </tr>\n",
       "    <tr>\n",
       "      <th>374</th>\n",
       "      <td>사회\\n\\n\\n\\n\\n무등산국립공원 '무덤산' 오명 벗나..묘지이장 본격 추진 \\n...</td>\n",
       "      <td>자연</td>\n",
       "    </tr>\n",
       "    <tr>\n",
       "      <th>173</th>\n",
       "      <td>광주 데이트코스 패밀리랜드 빛축제 \\n\\n\\n날랭 일상\\n\\n\\t\\t\\t\\t\\t\\t...</td>\n",
       "      <td>관광명소</td>\n",
       "    </tr>\n",
       "    <tr>\n",
       "      <th>134</th>\n",
       "      <td>필름 속을 걷다.\\n\\n\\n\\n\\n\\n\\n\\n\\n\\n\\n광주, 패밀리랜드 동물원 구...</td>\n",
       "      <td>관광명소</td>\n",
       "    </tr>\n",
       "    <tr>\n",
       "      <th>...</th>\n",
       "      <td>...</td>\n",
       "      <td>...</td>\n",
       "    </tr>\n",
       "    <tr>\n",
       "      <th>211</th>\n",
       "      <td>무등산 국립공원 정상\\n\\n\\n山\\n\\n\\t\\t\\t\\t\\t\\t\\t\\t\\t\\t\\t\\t...</td>\n",
       "      <td>자연</td>\n",
       "    </tr>\n",
       "    <tr>\n",
       "      <th>339</th>\n",
       "      <td>광주 금호패밀리랜드 썰매장 다녀왔어요 (광주 썰매장)\\n\\n\\n여행,나들이\\n\\t\\...</td>\n",
       "      <td>관광명소</td>\n",
       "    </tr>\n",
       "    <tr>\n",
       "      <th>87</th>\n",
       "      <td>2013년 9월 둘째주:) 무등산국립공원 숲체험 프로그램\\n\\n\\n사회성증진프로그램...</td>\n",
       "      <td>자연</td>\n",
       "    </tr>\n",
       "    <tr>\n",
       "      <th>234</th>\n",
       "      <td>[광주] 패밀리랜드 동물원\\n\\n\\nGOING\\n\\n\\t\\t\\t\\t\\t\\t\\t\\t\\...</td>\n",
       "      <td>관광명소</td>\n",
       "    </tr>\n",
       "    <tr>\n",
       "      <th>246</th>\n",
       "      <td>자연 숙성꽃꿀\\n\\n\\n\\n\\n# 무등산 국립공원!  \\n\\n\\n\\n\\n\\n자연숙성...</td>\n",
       "      <td>자연</td>\n",
       "    </tr>\n",
       "  </tbody>\n",
       "</table>\n",
       "<p>376 rows × 2 columns</p>\n",
       "</div>"
      ],
      "text/plain": [
       "                                                     0    분류\n",
       "431  광주 놀이 스팟 ÷p\\n\\n\\n\\n\\n[광주] 패밀리랜드 박치기왕들과 피크닉놀이 \\...  관광명소\n",
       "241  초딩들과 함께한 광주 놀이공원/광주패밀리랜드\"\\n\\n\\n일상,SoSo한\\n\\t\\t\\...  관광명소\n",
       "374  사회\\n\\n\\n\\n\\n무등산국립공원 '무덤산' 오명 벗나..묘지이장 본격 추진 \\n...    자연\n",
       "173  광주 데이트코스 패밀리랜드 빛축제 \\n\\n\\n날랭 일상\\n\\n\\t\\t\\t\\t\\t\\t...  관광명소\n",
       "134  필름 속을 걷다.\\n\\n\\n\\n\\n\\n\\n\\n\\n\\n\\n광주, 패밀리랜드 동물원 구...  관광명소\n",
       "..                                                 ...   ...\n",
       "211  무등산 국립공원 정상\\n\\n\\n山\\n\\n\\t\\t\\t\\t\\t\\t\\t\\t\\t\\t\\t\\t...    자연\n",
       "339  광주 금호패밀리랜드 썰매장 다녀왔어요 (광주 썰매장)\\n\\n\\n여행,나들이\\n\\t\\...  관광명소\n",
       "87   2013년 9월 둘째주:) 무등산국립공원 숲체험 프로그램\\n\\n\\n사회성증진프로그램...    자연\n",
       "234  [광주] 패밀리랜드 동물원\\n\\n\\nGOING\\n\\n\\t\\t\\t\\t\\t\\t\\t\\t\\...  관광명소\n",
       "246  자연 숙성꽃꿀\\n\\n\\n\\n\\n# 무등산 국립공원!  \\n\\n\\n\\n\\n\\n자연숙성...    자연\n",
       "\n",
       "[376 rows x 2 columns]"
      ]
     },
     "execution_count": 24,
     "metadata": {},
     "output_type": "execute_result"
    }
   ],
   "source": [
    "test"
   ]
  },
  {
   "cell_type": "code",
   "execution_count": 25,
   "metadata": {},
   "outputs": [],
   "source": [
    "X_train = train['0']\n",
    "y_train = train['분류']"
   ]
  },
  {
   "cell_type": "code",
   "execution_count": 61,
   "metadata": {},
   "outputs": [
    {
     "data": {
      "text/plain": [
       "537      자연\n",
       "389      자연\n",
       "693    관광명소\n",
       "597    관광명소\n",
       "516      자연\n",
       "       ... \n",
       "477    관광명소\n",
       "245    관광명소\n",
       "256      자연\n",
       "424    관광명소\n",
       "408    관광명소\n",
       "Name: 분류, Length: 875, dtype: object"
      ]
     },
     "execution_count": 61,
     "metadata": {},
     "output_type": "execute_result"
    }
   ],
   "source": [
    "y_train"
   ]
  },
  {
   "cell_type": "code",
   "execution_count": 62,
   "metadata": {},
   "outputs": [
    {
     "data": {
      "text/plain": [
       "537    발키리가 간다,광주 무등산 등산,무등산국립공원,첫 등산을 하다\\n\\n\\n렌즈미상무지...\n",
       "389    물넘고 산넘어 \\n\\n\\n\\n\\n광주 무등산 국립공원(안양산- 백마능선- 장불재- ...\n",
       "693    Ever Korea\\n\\n\\n\\n\\n광주 패밀리랜드 스냅 :: 사진찍기 좋은 데이트...\n",
       "597    코에 바람넣기\\n\\n\\n\\n\\n광주 패밀리랜드   \\n\\n\\n\\n\\n\\n울랄라\\n\\...\n",
       "516    무등산 국립공원\\n\\n\\n레저산업 여행기\\n\\n\\t\\t\\t\\t\\t\\t\\t\\t\\t\\t...\n",
       "                             ...                        \n",
       "477    여행 / 카페\\n\\n\\n\\n\\n광주 패밀리랜드, 광주 24시간 카페 갤러리 24 \\...\n",
       "245    [광주 패밀리랜드] 오치동 패밀리랜드 광주 동물원\\n\\n\\n노는중\\n\\t\\t\\t\\t...\n",
       "256    충청-전라\\n\\n\\n\\n\\n광주:무등산 국립공원 2020년 4월 원효사에서 증심사 ...\n",
       "424    08년 05월 10일 토요일 패밀리랜드에서 ④\\n\\n\\n사소한 일상\\n\\n\\t\\t\\...\n",
       "408    ♩ 쭈니+져니\\n\\n\\n\\n\\n\\n\\n\\n\\n\\n\\n쭈니&져니의 주말일상 !♥ (곱...\n",
       "Name: 0, Length: 875, dtype: object"
      ]
     },
     "execution_count": 62,
     "metadata": {},
     "output_type": "execute_result"
    }
   ],
   "source": [
    "X_train"
   ]
  },
  {
   "cell_type": "code",
   "execution_count": 63,
   "metadata": {
    "scrolled": true
   },
   "outputs": [],
   "source": [
    "X_test = test['0']\n",
    "y_test = test['분류']"
   ]
  },
  {
   "cell_type": "code",
   "execution_count": 64,
   "metadata": {},
   "outputs": [
    {
     "data": {
      "text/plain": [
       "431    관광명소\n",
       "241    관광명소\n",
       "374      자연\n",
       "173    관광명소\n",
       "134    관광명소\n",
       "       ... \n",
       "211      자연\n",
       "339    관광명소\n",
       "87       자연\n",
       "234    관광명소\n",
       "246      자연\n",
       "Name: 분류, Length: 376, dtype: object"
      ]
     },
     "execution_count": 64,
     "metadata": {},
     "output_type": "execute_result"
    }
   ],
   "source": [
    "y_test"
   ]
  },
  {
   "cell_type": "code",
   "execution_count": 65,
   "metadata": {},
   "outputs": [
    {
     "data": {
      "text/plain": [
       "431    광주 놀이 스팟 ÷p\\n\\n\\n\\n\\n[광주] 패밀리랜드 박치기왕들과 피크닉놀이 \\...\n",
       "241    초딩들과 함께한 광주 놀이공원/광주패밀리랜드\"\\n\\n\\n일상,SoSo한\\n\\t\\t\\...\n",
       "374    사회\\n\\n\\n\\n\\n무등산국립공원 '무덤산' 오명 벗나..묘지이장 본격 추진 \\n...\n",
       "173    광주 데이트코스 패밀리랜드 빛축제 \\n\\n\\n날랭 일상\\n\\n\\t\\t\\t\\t\\t\\t...\n",
       "134    필름 속을 걷다.\\n\\n\\n\\n\\n\\n\\n\\n\\n\\n\\n광주, 패밀리랜드 동물원 구...\n",
       "                             ...                        \n",
       "211    무등산 국립공원 정상\\n\\n\\n山\\n\\n\\t\\t\\t\\t\\t\\t\\t\\t\\t\\t\\t\\t...\n",
       "339    광주 금호패밀리랜드 썰매장 다녀왔어요 (광주 썰매장)\\n\\n\\n여행,나들이\\n\\t\\...\n",
       "87     2013년 9월 둘째주:) 무등산국립공원 숲체험 프로그램\\n\\n\\n사회성증진프로그램...\n",
       "234    [광주] 패밀리랜드 동물원\\n\\n\\nGOING\\n\\n\\t\\t\\t\\t\\t\\t\\t\\t\\...\n",
       "246    자연 숙성꽃꿀\\n\\n\\n\\n\\n# 무등산 국립공원!  \\n\\n\\n\\n\\n\\n자연숙성...\n",
       "Name: 0, Length: 376, dtype: object"
      ]
     },
     "execution_count": 65,
     "metadata": {},
     "output_type": "execute_result"
    }
   ],
   "source": [
    "X_test"
   ]
  },
  {
   "cell_type": "code",
   "execution_count": 66,
   "metadata": {},
   "outputs": [
    {
     "name": "stdout",
     "output_type": "stream",
     "text": [
      "(875,)\n",
      "(875,)\n",
      "(376,)\n",
      "(376,)\n"
     ]
    }
   ],
   "source": [
    "print(X_train.shape)\n",
    "print(y_train.shape)\n",
    "print(X_test.shape)\n",
    "print(y_test.shape)"
   ]
  },
  {
   "cell_type": "code",
   "execution_count": null,
   "metadata": {},
   "outputs": [],
   "source": []
  },
  {
   "cell_type": "code",
   "execution_count": 32,
   "metadata": {},
   "outputs": [
    {
     "data": {
      "text/plain": [
       "537      자연\n",
       "389      자연\n",
       "693    관광명소\n",
       "597    관광명소\n",
       "516      자연\n",
       "       ... \n",
       "477    관광명소\n",
       "245    관광명소\n",
       "256      자연\n",
       "424    관광명소\n",
       "408    관광명소\n",
       "Name: 분류, Length: 875, dtype: object"
      ]
     },
     "execution_count": 32,
     "metadata": {},
     "output_type": "execute_result"
    }
   ],
   "source": [
    "y_train"
   ]
  },
  {
   "cell_type": "code",
   "execution_count": 33,
   "metadata": {},
   "outputs": [
    {
     "data": {
      "text/plain": [
       "CountVectorizer(analyzer='word', binary=False, decode_error='strict',\n",
       "                dtype=<class 'numpy.int64'>, encoding='utf-8', input='content',\n",
       "                lowercase=True, max_df=1.0, max_features=None, min_df=1,\n",
       "                ngram_range=(1, 1), preprocessor=None, stop_words=None,\n",
       "                strip_accents=None, token_pattern='(?u)\\\\b\\\\w\\\\w+\\\\b',\n",
       "                tokenizer=None, vocabulary=None)"
      ]
     },
     "execution_count": 33,
     "metadata": {},
     "output_type": "execute_result"
    }
   ],
   "source": [
    "blog_mt_cv3 = CountVectorizer()\n",
    "blog_mt_cv3.fit(X_train)"
   ]
  },
  {
   "cell_type": "code",
   "execution_count": 34,
   "metadata": {},
   "outputs": [
    {
     "data": {
      "text/plain": [
       "{'발키리가': 35884,\n",
       " '간다': 8044,\n",
       " '광주': 12322,\n",
       " '무등산': 32873,\n",
       " '등산': 26899,\n",
       " '무등산국립공원': 32905,\n",
       " '등산을': 27001,\n",
       " '하다': 80568,\n",
       " '렌즈미상무지구점': 28405,\n",
       " '2015': 1365,\n",
       " '16': 875,\n",
       " '14': 734,\n",
       " 'https': 4639,\n",
       " 'blog': 4275,\n",
       " 'naver': 4961,\n",
       " 'com': 4357,\n",
       " 'balky_lee': 4232,\n",
       " '220231566579': 1550,\n",
       " '번역하기': 36815,\n",
       " '광주에': 12706,\n",
       " '무등산이': 33129,\n",
       " '유명한건': 59402,\n",
       " '알았지만': 51934,\n",
       " '한번도': 81441,\n",
       " '가보지': 7347,\n",
       " '못한': 32633,\n",
       " '전에': 66077,\n",
       " '10분': 407,\n",
       " '등산했다가': 27072,\n",
       " '비가': 39767,\n",
       " '오는바람에': 55771,\n",
       " '다시': 21738,\n",
       " '내려오는': 18772,\n",
       " '돌발상황이': 24420,\n",
       " '이후에': 61418,\n",
       " '와야지': 57041,\n",
       " '다짐했는데': 21911,\n",
       " '드디어': 26103,\n",
       " '등산하고': 27052,\n",
       " '왔습니다': 57228,\n",
       " '그전에': 14670,\n",
       " '겨울이라': 10224,\n",
       " '아이젠이니': 50322,\n",
       " '뭐니': 34169,\n",
       " '준비할게': 69307,\n",
       " '많은것': 29766,\n",
       " '같아': 8832,\n",
       " '눈이': 20810,\n",
       " '안내리고': 50719,\n",
       " '땅이': 27507,\n",
       " '좋을': 68452,\n",
       " '때를': 27533,\n",
       " '기다리고': 15165,\n",
       " '기다렸죠': 15161,\n",
       " '등산복': 26978,\n",
       " '등산화': 27074,\n",
       " '등산모자까지': 26971,\n",
       " '준비도': 69258,\n",
       " '했답니다': 82688,\n",
       " '노스페이스에서': 19746,\n",
       " '할인을': 81818,\n",
       " '하고': 80290,\n",
       " '있기에': 62813,\n",
       " '충장로에서': 74759,\n",
       " '충동구매를': 74733,\n",
       " '했습니다': 82717,\n",
       " 'ㅋㅋ무등산': 5997,\n",
       " '국립공원으로': 13698,\n",
       " '그럼': 14470,\n",
       " '출발해볼까요': 74613,\n",
       " '주차는': 69062,\n",
       " '유료주차장을': 59372,\n",
       " '이용했습니다': 61186,\n",
       " '10분에': 416,\n",
       " '100원이였던가': 322,\n",
       " '기억이': 15570,\n",
       " '안나는데': 50664,\n",
       " '국립공원': 13637,\n",
       " '가기전': 6832,\n",
       " '버스정류장': 36752,\n",
       " '스타벅스': 46771,\n",
       " '카페': 75356,\n",
       " '주차장이': 69121,\n",
       " '보이실겁니다': 38033,\n",
       " '왔었을적엔': 57250,\n",
       " '도로에': 23835,\n",
       " '주차했다가': 69153,\n",
       " '단속차량이': 22061,\n",
       " '많이': 29802,\n",
       " '왔다갔다하길래': 57192,\n",
       " '이번에는': 60735,\n",
       " '속편하게': 45269,\n",
       " '유료주차장에': 59371,\n",
       " '주차했어요': 69155,\n",
       " '오니': 55802,\n",
       " '2천원': 2270,\n",
       " '냈네요': 19113,\n",
       " '등산전에': 27020,\n",
       " '차안에서': 72234,\n",
       " '셀카도': 44777,\n",
       " '한번': 81436,\n",
       " '찍어보았습니다': 71897,\n",
       " '요번에': 57643,\n",
       " '구매한': 13364,\n",
       " '에스키모': 54153,\n",
       " '모스크바': 31878,\n",
       " '털모자스타일이': 77325,\n",
       " '마음에': 28977,\n",
       " '듭니다': 26805,\n",
       " 'ㅋㅋ': 5579,\n",
       " '뿌듯': 40635,\n",
       " '왔어요': 57232,\n",
       " '차타고': 72284,\n",
       " '올라가도': 56596,\n",
       " '되나': 25312,\n",
       " '조금': 67466,\n",
       " '걸었더니': 9880,\n",
       " '차생각이': 72231,\n",
       " '나네요': 17193,\n",
       " '올라가기전': 56570,\n",
       " '신발의': 48177,\n",
       " '상태를': 42845,\n",
       " '찍어보았어요': 71898,\n",
       " '컬러도': 75676,\n",
       " '아쥬': 50388,\n",
       " 'ㅎㅎ신상': 6289,\n",
       " '등산화임': 27082,\n",
       " '신상신상': 48216,\n",
       " '오후1시': 56410,\n",
       " '평일이라': 79010,\n",
       " '그런지': 14438,\n",
       " '등산하는': 27055,\n",
       " '사람들이': 40897,\n",
       " '적었습니다': 65687,\n",
       " '오히려': 56431,\n",
       " '사람이': 40930,\n",
       " '많은것같아요': 29767,\n",
       " '다음엔': 21831,\n",
       " '일찍': 62148,\n",
       " '서둘러서': 43647,\n",
       " '와봐야겠어요': 57005,\n",
       " '처음이라': 73064,\n",
       " '길을': 15930,\n",
       " '모르니': 31841,\n",
       " '쫓아가는게': 71759,\n",
       " '최고': 74087,\n",
       " '등산이기에': 27005,\n",
       " '제일': 67307,\n",
       " '쉬운': 46543,\n",
       " '코스로': 75866,\n",
       " '갔다왔습니다': 8564,\n",
       " '안내판을': 50757,\n",
       " '보니': 37605,\n",
       " '새인봉이': 43064,\n",
       " '가장': 7713,\n",
       " '가까운': 6847,\n",
       " '같네요': 8798,\n",
       " '등산코스는': 27028,\n",
       " '새인봉으로': 43058,\n",
       " '결정': 10303,\n",
       " '의재': 60085,\n",
       " '미술관이': 34438,\n",
       " '있네요': 62841,\n",
       " '나중에': 17793,\n",
       " '여유있을때': 54504,\n",
       " '방문하기로': 36062,\n",
       " '해봅니다': 82227,\n",
       " '등산의': 27003,\n",
       " '기본이죠': 15386,\n",
       " '푯말은': 79531,\n",
       " '확인해야죠': 84132,\n",
       " '새인봉': 43038,\n",
       " '방향으로': 36249,\n",
       " '갑니다': 8484,\n",
       " '내린눈이': 18909,\n",
       " '녹지가': 19829,\n",
       " '않아서': 51574,\n",
       " '아직은': 50400,\n",
       " '바닥에': 34842,\n",
       " '얼음도': 53587,\n",
       " '있고': 62754,\n",
       " '눈도': 20684,\n",
       " '진흙탕물도': 71290,\n",
       " '섞여': 43977,\n",
       " '날을': 18148,\n",
       " '잘못잡았나': 64373,\n",
       " '그래도': 14310,\n",
       " '미끄럽지': 34282,\n",
       " '다행이였어요': 21982,\n",
       " '중간중간': 69456,\n",
       " '갈림길엔': 8244,\n",
       " '표지판이': 79511,\n",
       " '있으니': 63353,\n",
       " '확인잘하시고가고자하는': 84101,\n",
       " '잃어버리지않게': 62234,\n",
       " '계단코스가': 10647,\n",
       " '나옵니다': 17643,\n",
       " '어깨위에': 52733,\n",
       " '누군가': 20536,\n",
       " '올라탄것같은': 56756,\n",
       " '발이': 35856,\n",
       " '점점': 66485,\n",
       " '무거워지는': 32729,\n",
       " '구간': 13134,\n",
       " 'ㅠㅠ평소': 6517,\n",
       " '운동을': 58281,\n",
       " '해야겠다': 82309,\n",
       " '다짐하죠': 21910,\n",
       " 'ㅋㅋ계단을': 5945,\n",
       " '올라와서는': 56724,\n",
       " '새인봉삼거리가': 43049,\n",
       " '나와요': 17662,\n",
       " '요기': 57560,\n",
       " '앉아서': 51432,\n",
       " '쉴구': 46564,\n",
       " '있는곳이': 62887,\n",
       " '있더라구요': 63069,\n",
       " '숨도': 46354,\n",
       " '고르고': 10976,\n",
       " '잠시': 64553,\n",
       " '쉬도록합니다': 46493,\n",
       " '맑은': 30065,\n",
       " '콧물': 75975,\n",
       " '르르': 28584,\n",
       " '흘러내리는것도누가': 85001,\n",
       " '보기전에': 37501,\n",
       " '슥슥': 46889,\n",
       " '닦아줘야죠': 22013,\n",
       " '다음에': 21826,\n",
       " '등산할땐': 27070,\n",
       " '미쳐': 34513,\n",
       " '준비못한': 69269,\n",
       " '손수건이라든지': 45333,\n",
       " '수건을': 45673,\n",
       " '준비해야겠어요': 69322,\n",
       " '멋진': 31323,\n",
       " '장관이': 64734,\n",
       " '이어지고': 60995,\n",
       " '시작됩니다': 47572,\n",
       " '힐링되는': 85168,\n",
       " '기분': 15399,\n",
       " '바람이': 34957,\n",
       " '차지만': 72268,\n",
       " '가슴이': 7479,\n",
       " '뚫리는': 28000,\n",
       " '스트레스는': 46831,\n",
       " '이곳에': 60191,\n",
       " '두고옵니다': 25640,\n",
       " '사진으로': 41518,\n",
       " '담아왓지만': 22595,\n",
       " '실제로': 48461,\n",
       " '눈으로': 20804,\n",
       " '담는것이더': 22540,\n",
       " '좋네요': 68079,\n",
       " '새인봉에서': 43054,\n",
       " '인증샷': 61700,\n",
       " '못생긴건': 32497,\n",
       " '넘어가줍시다': 19392,\n",
       " '시계을': 47162,\n",
       " '1시에': 1193,\n",
       " '출발했는데': 74617,\n",
       " '2시10분쯤': 2187,\n",
       " '빠른건지': 40338,\n",
       " '느린건지': 21022,\n",
       " '모르겠으나': 31828,\n",
       " '코스도': 75859,\n",
       " '어렵지': 52931,\n",
       " '않고': 51499,\n",
       " '첫등산치고는': 73396,\n",
       " '재미있었어요': 65120,\n",
       " '내려올땐': 18811,\n",
       " '발걸음이': 35699,\n",
       " '가벼워서': 7286,\n",
       " '후다다다닥': 84547,\n",
       " '내려왔네요': 18819,\n",
       " '내려와서는': 18817,\n",
       " '세척장에서': 44696,\n",
       " '깨끗하게': 16295,\n",
       " '세척해봅니다': 44701,\n",
       " '새거처럼': 42912,\n",
       " '세척장이': 44699,\n",
       " '따로': 27316,\n",
       " '안빨아도되겠어요': 50994,\n",
       " 'ㅋㅋ다음엔': 5974,\n",
       " '말고': 29861,\n",
       " '좀더': 67875,\n",
       " '멀리': 31194,\n",
       " '코스를': 75872,\n",
       " '늘려볼게요': 21059,\n",
       " '동호회가': 25171,\n",
       " '있는것': 62870,\n",
       " '같은데': 8905,\n",
       " '평일': 78994,\n",
       " '모임은': 32043,\n",
       " '없겠죠': 53750,\n",
       " 'ㅠ_ㅠ': 6436,\n",
       " 'www': 5414,\n",
       " 'balkylee': 4233,\n",
       " 'com맛집': 4359,\n",
       " '안경': 50618,\n",
       " '선글라스': 44007,\n",
       " '여행': 54560,\n",
       " '기타등등': 15756,\n",
       " '정보공유': 66736,\n",
       " '태그': 77118,\n",
       " '광주무등산쉬운코스등반하기': 12506,\n",
       " '취소': 74810,\n",
       " '확인': 84091,\n",
       " '공감': 11532,\n",
       " '글에': 14835,\n",
       " '공감한': 11543,\n",
       " '블로거': 39740,\n",
       " '열고': 54916,\n",
       " '닫기': 22194,\n",
       " '댓글쓰기': 23341,\n",
       " '댓글': 23338,\n",
       " '블로그카페keep메모': 39755,\n",
       " '보내기': 37514,\n",
       " '북마크': 39103,\n",
       " '되었습니다': 25499,\n",
       " '네이버': 19547,\n",
       " '가기': 6812,\n",
       " '현재': 83298,\n",
       " '되어': 25416,\n",
       " '있습니다': 63097,\n",
       " '북마크를': 39104,\n",
       " '해제하시겠습니까': 82392,\n",
       " '아니오': 49643,\n",
       " '서버': 43699,\n",
       " '접속이': 66523,\n",
       " '원활하지': 58960,\n",
       " '않습니다': 51564,\n",
       " '시도해': 47274,\n",
       " '주십시오': 68921,\n",
       " '서비스': 43706,\n",
       " '점검': 66427,\n",
       " '중으로': 69717,\n",
       " '읽기만': 62213,\n",
       " '가능하오니이용에': 7028,\n",
       " '참고해': 72425,\n",
       " '주시기': 68901,\n",
       " '바랍니다': 34976,\n",
       " 'keep에': 4753,\n",
       " '저장되었습니다': 65553,\n",
       " '목록보기': 32156,\n",
       " '편집하기': 78859,\n",
       " '이미': 60710,\n",
       " '목록에서': 32158,\n",
       " '확인하시겠습니까': 84113,\n",
       " 'keep': 4750,\n",
       " '목록': 32155,\n",
       " '__feed_info__': 4155,\n",
       " '드셨다면네이버': 26208,\n",
       " 'my구독에서': 4942,\n",
       " '편하게': 78862,\n",
       " '받아보세요': 35623,\n",
       " '인쇄': 61603,\n",
       " '이전': 61256,\n",
       " '다음': 21806,\n",
       " 'function': 4535,\n",
       " 'imagelazyloader': 4657,\n",
       " 'selectors': 5180,\n",
       " 'this': 5283,\n",
       " 'prototype': 5103,\n",
       " 'loadimages': 4847,\n",
       " 'var': 5360,\n",
       " 'containers': 4364,\n",
       " 'instanceof': 4669,\n",
       " 'htmlelement': 4636,\n",
       " 'jindo': 4700,\n",
       " 'foreach': 4523,\n",
       " 'fn': 4520,\n",
       " 'element': 4474,\n",
       " 'loadimagesforeachcontainer': 4848,\n",
       " 'bind': 4270,\n",
       " 'postcontentarea': 5093,\n",
       " 'queryall': 5115,\n",
       " 'img': 4658,\n",
       " 'realsrc': 5126,\n",
       " 'attr': 4213,\n",
       " 'data': 4392,\n",
       " 'lazy': 4819,\n",
       " 'src': 5223,\n",
       " 'if': 4647,\n",
       " 'return': 5138,\n",
       " 'new': 4966,\n",
       " 'postlistbody': 5094,\n",
       " 'post': 5092,\n",
       " 'attach': 4212,\n",
       " 'window': 5401,\n",
       " 'domready': 4430,\n",
       " '물넘고': 33947,\n",
       " '산넘어': 41788,\n",
       " '안양산': 51071,\n",
       " '백마능선': 36503,\n",
       " '장불재': 64844,\n",
       " '증심사': 70065,\n",
       " '코스': 75848,\n",
       " '물찬돼지': 34133,\n",
       " '2019': 1388,\n",
       " '11': 481,\n",
       " '31': 2418,\n",
       " 'url': 5355,\n",
       " '복사': 38211,\n",
       " '이웃추가': 61212,\n",
       " '본문': 38300,\n",
       " '기타': 15754,\n",
       " '기능': 15117,\n",
       " '번역보기': 36813,\n",
       " '국립공원이자': 13715,\n",
       " '세계지질공원인': 44526,\n",
       " '내게': 18595,\n",
       " '친숙한': 75089,\n",
       " '산이': 41987,\n",
       " '무등산일': 33147,\n",
       " '텐데': 77392,\n",
       " '지금껏': 70224,\n",
       " '백마능선을': 36518,\n",
       " '보질': 38123,\n",
       " '못해': 32652,\n",
       " '작정을': 64223,\n",
       " '찾아': 72656,\n",
       " '나선': 17487,\n",
       " '산행이다': 42227,\n",
       " '지도상': 70451,\n",
       " '오른편': 56032,\n",
       " '아래에': 49790,\n",
       " '무등산편백자연휴양림': 33217,\n",
       " '이라': 60401,\n",
       " '있으나': 63351,\n",
       " '흔히': 84991,\n",
       " '휴양림': 84808,\n",
       " '한다': 81299,\n",
       " '그곳이': 14202,\n",
       " '오늘의': 55795,\n",
       " '출발점이다': 74574,\n",
       " '길게': 15840,\n",
       " '타는': 76450,\n",
       " '타기': 76431,\n",
       " '위해서는': 59255,\n",
       " '휴양림을': 84812,\n",
       " '지나야': 70325,\n",
       " '하는데': 80483,\n",
       " '입장료를': 62610,\n",
       " '지불해야': 70555,\n",
       " '그다지': 14267,\n",
       " '유쾌한': 59606,\n",
       " '입장료는': 62606,\n",
       " '아니나': 49569,\n",
       " '이왕지사': 61048,\n",
       " '이곳을': 60209,\n",
       " '출발점을': 74573,\n",
       " '삼으려면': 42536,\n",
       " '어쩔': 53285,\n",
       " '없다': 53826,\n",
       " '그도': 14281,\n",
       " '싫다면': 48516,\n",
       " '오늘': 55774,\n",
       " '산행을': 42222,\n",
       " '반대로': 35390,\n",
       " '방법도': 36116,\n",
       " '있다': 62987,\n",
       " '정상이': 66843,\n",
       " '눈에': 20792,\n",
       " '들어': 26448,\n",
       " '왔다': 57187,\n",
       " '휴양림에서': 84809,\n",
       " '이를': 60600,\n",
       " '때까지는': 27513,\n",
       " '숲에': 46441,\n",
       " '가려': 7142,\n",
       " '사위를': 41281,\n",
       " '분간하기': 39149,\n",
       " '어려우니': 52899,\n",
       " '앞만': 52070,\n",
       " '보고': 37424,\n",
       " '직진을': 71072,\n",
       " '해야': 82307,\n",
       " '비교적': 39795,\n",
       " '경사도가': 10453,\n",
       " '있는': 62854,\n",
       " '구간을': 13147,\n",
       " '올라야': 56690,\n",
       " 'z자로': 5463,\n",
       " '등산로를': 26952,\n",
       " '마련하여': 28747,\n",
       " '경사도를': 10455,\n",
       " '낮추었다': 18573,\n",
       " '싸목싸목이라면': 48876,\n",
       " '무리': 33376,\n",
       " '없이': 54015,\n",
       " '오를': 56035,\n",
       " '사진부터는': 41493,\n",
       " '사방이': 41101,\n",
       " '터지고': 77298,\n",
       " '사위가': 41279,\n",
       " '시원스럽다': 47483,\n",
       " '억새': 53339,\n",
       " '능선': 21123,\n",
       " '뒤로': 25968,\n",
       " '화순': 83909,\n",
       " '풍력발전소가': 79769,\n",
       " '내려다': 18731,\n",
       " '보인다': 38043,\n",
       " '정상에': 66828,\n",
       " '올랐다': 56761,\n",
       " '해발': 82167,\n",
       " '853m': 3893,\n",
       " '또한': 27922,\n",
       " '국립공원에': 13685,\n",
       " '포함된다': 79307,\n",
       " '안양산에': 51080,\n",
       " '오른': 56003,\n",
       " '기념으로': 15091,\n",
       " '무등산을': 33126,\n",
       " '담아': 22567,\n",
       " '본다': 38284,\n",
       " '좌측의': 68531,\n",
       " '능선이': 21153,\n",
       " '앞으로': 52108,\n",
       " '가게': 6727,\n",
       " '정상인': 66850,\n",
       " '천왕봉이': 73179,\n",
       " '손에': 45340,\n",
       " '잡힐': 64688,\n",
       " '듯하다': 26817,\n",
       " '곳곳의': 11418,\n",
       " '명칭은': 31603,\n",
       " '마련된': 28741,\n",
       " '아래': 49773,\n",
       " '안내': 50694,\n",
       " '대신한다': 23065,\n",
       " '그런데': 14427,\n",
       " '제목이': 67239,\n",
       " '아니다': 49580,\n",
       " '이제': 61295,\n",
       " '타야': 76601,\n",
       " '안양산에서': 51081,\n",
       " '바라': 34867,\n",
       " '무등산이란': 33137,\n",
       " '표현이': 79520,\n",
       " '맞을': 30353,\n",
       " '게다': 10118,\n",
       " '안양산의': 51086,\n",
       " '명물은': 31528,\n",
       " '철쭉이다': 73316,\n",
       " '엄밀하게': 53674,\n",
       " '말하자면': 30019,\n",
       " '산철쭉이겠는데': 42140,\n",
       " '산철쭉이': 42139,\n",
       " '만개할': 29221,\n",
       " '찾아야': 72722,\n",
       " '진면목을': 71110,\n",
       " '보게': 37415,\n",
       " '된다': 25554,\n",
       " '산철쭉': 42138,\n",
       " '터널': 77270,\n",
       " '지난다': 70364,\n",
       " '쉽게': 46601,\n",
       " '방법은': 36118,\n",
       " '표지목에': 79491,\n",
       " '안내된': 50710,\n",
       " '화순군': 83919,\n",
       " '수만리의': 45816,\n",
       " '들국화': 26296,\n",
       " '마을': 28923,\n",
       " '에서': 54132,\n",
       " '오르는': 55938,\n",
       " '방법일': 36126,\n",
       " '같다': 8803,\n",
       " '으흠': 59776,\n",
       " '2018년': 1385,\n",
       " '10월': 458,\n",
       " '중순의': 69630,\n",
       " '산행기를': 42176,\n",
       " '이제야': 61305,\n",
       " '올리고': 56819,\n",
       " '그때의': 14303,\n",
       " '단풍이': 22170,\n",
       " '어찌나': 53302,\n",
       " '곱던지': 11398,\n",
       " '미리': 34368,\n",
       " '올린': 56842,\n",
       " '바가': 34736,\n",
       " '있는데이': 62935,\n",
       " '녀석들은': 19571,\n",
       " '뭐여': 34195,\n",
       " '따사로운': 27343,\n",
       " '햇살에': 82595,\n",
       " '화들짝': 83852,\n",
       " '놀라': 19931,\n",
       " '봄인': 38497,\n",
       " '알고': 51733,\n",
       " '꽃망울을': 16662,\n",
       " '터뜨린철없는': 77282,\n",
       " '몇이': 31703,\n",
       " '사람을': 40928,\n",
       " '놀래키더라': 19970,\n",
       " '진행을': 71245,\n",
       " '보면': 37725,\n",
       " '공용': 11718,\n",
       " '전파기지국이': 66237,\n",
       " '나타나고': 17811,\n",
       " '금세': 14900,\n",
       " '냄새가': 19092,\n",
       " '난다': 17937,\n",
       " '누가': 20511,\n",
       " '뭐래도': 34188,\n",
       " '무등산은': 33121,\n",
       " '지구촌에서': 70217,\n",
       " '높은': 20387,\n",
       " '곳에': 11433,\n",
       " '주상절리를': 68855,\n",
       " '가진': 7939,\n",
       " '산이다': 41994,\n",
       " '용암이': 57777,\n",
       " '바닷물을': 34854,\n",
       " '만나': 29246,\n",
       " '급격히': 14974,\n",
       " '식으면서': 47930,\n",
       " '생성된다는': 43478,\n",
       " '주상절리': 68827,\n",
       " '주상절리의': 68861,\n",
       " '편린들이': 78774,\n",
       " '곳곳에': 11412,\n",
       " '널브러진': 19299,\n",
       " '모습이': 31908,\n",
       " '오기': 55730,\n",
       " '시작한다': 47636,\n",
       " '주암호의': 68923,\n",
       " '물길이': 33943,\n",
       " '살짝': 42404,\n",
       " '모습을': 31904,\n",
       " '드러낸다': 26137,\n",
       " '지나': 70260,\n",
       " '안양산이': 51087,\n",
       " '드디에': 26105,\n",
       " '발아래로': 35829,\n",
       " '보이기': 37973,\n",
       " '지금부터는': 70233,\n",
       " '낙타봉을': 17897,\n",
       " '지날': 70379,\n",
       " '텐데등산로는': 77393,\n",
       " '낙타봉': 17890,\n",
       " '아래를': 49785,\n",
       " '지나도록': 70315,\n",
       " '그러나': 14371,\n",
       " '내가': 18587,\n",
       " '있었던': 63304,\n",
       " '백마능선에': 36513,\n",
       " '대한': 23270,\n",
       " '개념이': 8980,\n",
       " '깨지기': 16372,\n",
       " '시작한': 47634,\n",
       " '터에위험한': 77292,\n",
       " '바위': 35097,\n",
       " '능선을': 21151,\n",
       " '보기로': 37489,\n",
       " '낙타봉의': 17898,\n",
       " '암릉을': 51977,\n",
       " '볼까': 38365,\n",
       " '바위를': 35126,\n",
       " '각이': 7997,\n",
       " '주상절리들이다': 68852,\n",
       " '정상': 66768,\n",
       " '아래의': 49795,\n",
       " '지공너덜': 70188,\n",
       " '주상절리들이': 68851,\n",
       " '세월의': 44657,\n",
       " '무게에': 32741,\n",
       " '풍화된': 79842,\n",
       " '모습들이다': 31892,\n",
       " '보지': 38115,\n",
       " '않았더라면': 51618,\n",
       " '크게': 76081,\n",
       " '후회할': 84661,\n",
       " '뻔했다': 40553,\n",
       " '이야기하겠지만': 60966,\n",
       " '갖고': 8742,\n",
       " '있던': 63081,\n",
       " '백마능선의': 36519,\n",
       " '이미지가': 60713,\n",
       " '지금': 70221,\n",
       " '사정없이': 41397,\n",
       " '깨뜨려지고': 16336,\n",
       " '그렇지': 14499,\n",
       " '진행하게': 71255,\n",
       " '일부인데': 61960,\n",
       " '저런': 65428,\n",
       " '경우라면백마능선이란': 10496,\n",
       " '이름에': 60613,\n",
       " '걸맞은': 9758,\n",
       " '것이지': 10087,\n",
       " '사실': 41156,\n",
       " '무등산의': 33127,\n",
       " '입석대나': 62478,\n",
       " '서석대': 43724,\n",
       " '또는': 27868,\n",
       " '정상에서': 66830,\n",
       " '장불재에서': 64878,\n",
       " '안양산까지의': 51076,\n",
       " '은말잔등처럼': 59784,\n",
       " '부드러운': 38752,\n",
       " '곡선을': 11289,\n",
       " '만들어': 29368,\n",
       " '낸다': 19079,\n",
       " '그래서': 14315,\n",
       " '능선의': 21152,\n",
       " '이름이': 60619,\n",
       " '정상이나': 66846,\n",
       " '입석대': 62472,\n",
       " '광석대': 12294,\n",
       " '등에서만': 27092,\n",
       " '바라보았던지라백마능선이란': 34898,\n",
       " '그냥': 14213,\n",
       " '아멘을': 49903,\n",
       " '했었더라는': 82741,\n",
       " '얘기다': 52692,\n",
       " '오르기': 55928,\n",
       " '시작하다가': 47615,\n",
       " '뒤돌아': 25952,\n",
       " '정상을': 66841,\n",
       " '줌인해': 69438,\n",
       " '아직도': 50397,\n",
       " '정상은': 66839,\n",
       " '군사시설들이': 13847,\n",
       " '있어': 63114,\n",
       " '일반인들에겐': 61926,\n",
       " '개방되지': 9031,\n",
       " '인왕봉': 61637,\n",
       " '지왕봉': 70669,\n",
       " '듯한데': 26822,\n",
       " '에그': 54080,\n",
       " '한때': 81372,\n",
       " '저기에서': 65352,\n",
       " '살았다니깐': 42388,\n",
       " '낙타봉일까': 17903,\n",
       " '말잔등으로만': 29986,\n",
       " '보았는데': 37853,\n",
       " '가까이': 6884,\n",
       " '혹이': 83658,\n",
       " '솟았더라': 45436,\n",
       " '아마도': 49892,\n",
       " '풀이가': 79648,\n",
       " 'ㅎㅎ': 6170,\n",
       " '상식이': 42748,\n",
       " '깨지는': 16373,\n",
       " '즐거움이란': 69884,\n",
       " '산행': 42161,\n",
       " '만족도가': 29559,\n",
       " '팍팍': 78215,\n",
       " '올라가고': 56562,\n",
       " '세상의': 44595,\n",
       " '이치가': 61353,\n",
       " '그렇던가': 14494,\n",
       " '고지대에서': 11224,\n",
       " '보았을': 37863,\n",
       " '백마능선은': 36517,\n",
       " '곡선이었는데눈높이를': 11290,\n",
       " '맞추니': 30382,\n",
       " '이렇듯': 60530,\n",
       " '험한': 83104,\n",
       " '바위군들이': 35101,\n",
       " '이루더라': 60543,\n",
       " '세상을': 44594,\n",
       " '살아갈': 42363,\n",
       " '눈높이를': 20675,\n",
       " '맞춘다는': 30390,\n",
       " '얼마나': 53540,\n",
       " '중요한지를': 69710,\n",
       " '일깨우게': 61834,\n",
       " '낙석위험': 17854,\n",
       " '출입금지': 74648,\n",
       " '일을': 62077,\n",
       " '어찌할꼬': 53309,\n",
       " '여길': 54301,\n",
       " '오르지': 56000,\n",
       " '않으면': 51661,\n",
       " '평생': 78972,\n",
       " '같은디': 8914,\n",
       " '같은': 8893,\n",
       " '짓은': 71494,\n",
       " '대체로': 23200,\n",
       " '하지': 81022,\n",
       " '않는': 51523,\n",
       " '편이다': 78831,\n",
       " 'ㅎㅎ멀리': 6269,\n",
       " '지공너덜과': 70190,\n",
       " '규봉': 14117,\n",
       " '온다': 56477,\n",
       " '11월': 597,\n",
       " '그러니까': 14379,\n",
       " '마친': 29093,\n",
       " '며칠': 31469,\n",
       " '뒤에': 25982,\n",
       " '주상절리와': 68860,\n",
       " '은국가지정문화재': 59778,\n",
       " '명승으로': 31568,\n",
       " '지정되었다': 70786,\n",
       " '아들과': 49715,\n",
       " '동행했던': 25169,\n",
       " '아들': 49713,\n",
       " '녀석에겐': 19576,\n",
       " '등산로로': 26951,\n",
       " '하라': 80629,\n",
       " '놓았는데아부지가': 20449,\n",
       " '걱정이': 9459,\n",
       " '되었던지': 25497,\n",
       " '자꾸': 63593,\n",
       " '괜찮냐고': 12978,\n",
       " '불러댄다': 39394,\n",
       " '녀석': 19565,\n",
       " '낙타봉에서': 17895,\n",
       " '내려': 18649,\n",
       " '수만리와': 45815,\n",
       " '만연산': 29497,\n",
       " '밀어내며': 34673,\n",
       " '오면서': 56126,\n",
       " '아들을': 49757,\n",
       " '불러': 39391,\n",
       " '보았더니': 37857,\n",
       " '대답이': 22951,\n",
       " '아래로': 49781,\n",
       " '도는': 23783,\n",
       " '내려서며': 18752,\n",
       " '걱정이네': 9460,\n",
       " 'ㅎㅎ그런데': 6248,\n",
       " '등산로에서': 26955,\n",
       " '이런': 60465,\n",
       " '모습으로': 31900,\n",
       " '보이더라는': 38014,\n",
       " '그것참': 14186,\n",
       " '보는': 37579,\n",
       " '방향에': 36247,\n",
       " '따라': 27258,\n",
       " '물상은': 34040,\n",
       " '다양하게': 21766,\n",
       " '바꾸는': 34768,\n",
       " '것인지': 10093,\n",
       " '합류를': 81972,\n",
       " '뒤로하고': 25971,\n",
       " '계속': 10684,\n",
       " '타기로': 76435,\n",
       " '왔던': 57220,\n",
       " '한참이나': 81643,\n",
       " '내려선': 18759,\n",
       " '보니다시': 37613,\n",
       " '매력': 30453,\n",
       " '하나는': 80383,\n",
       " '억새평전이다': 53370,\n",
       " '위쪽의': 59179,\n",
       " '신선대': 48224,\n",
       " '가는': 6934,\n",
       " '길의': 15933,\n",
       " '평전': 79022,\n",
       " '주로': 68634,\n",
       " '능선에서': 21146,\n",
       " '놀았더랬는데': 20107,\n",
       " '억새밭으로': 53357,\n",
       " '부드럽게만': 38756,\n",
       " '보였던': 37937,\n",
       " '저래': 65420,\n",
       " '속단하지': 45217,\n",
       " '말아야': 29945,\n",
       " '아는': 49546,\n",
       " '것은': 10064,\n",
       " '지극히': 70219,\n",
       " '일부거늘': 61948,\n",
       " '그것이': 14185,\n",
       " '전부라고': 66005,\n",
       " '말하지': 30020,\n",
       " '말라': 29888,\n",
       " '이날': 60271,\n",
       " '많은': 29760,\n",
       " '가르침을': 7198,\n",
       " '준다': 69242,\n",
       " '제법': 67244,\n",
       " '밀어내': 34672,\n",
       " '버렸다': 36663,\n",
       " '암릉이': 51978,\n",
       " '나타나네': 17812,\n",
       " '백마능선인데': 36527,\n",
       " '어울리지': 53204,\n",
       " '않게': 51489,\n",
       " '바위군을': 35102,\n",
       " '이루었는지라능선암': 60561,\n",
       " '920m': 4049,\n",
       " '이름': 60601,\n",
       " '그럴싸하구먼': 14467,\n",
       " '능선암을': 21142,\n",
       " '분명': 39206,\n",
       " '했는데': 82623,\n",
       " '진행할': 71280,\n",
       " '방향을': 36254,\n",
       " '암릉이다': 51979,\n",
       " '아무도': 49915,\n",
       " '속인': 45266,\n",
       " '적이': 65722,\n",
       " '없건만': 53744,\n",
       " '그동안': 14282,\n",
       " '누군가에게': 20539,\n",
       " '속은': 45259,\n",
       " '느낌은': 20977,\n",
       " '뭐지': 34201,\n",
       " '마치': 29080,\n",
       " '민둥산처럼': 34568,\n",
       " '내면을': 18932,\n",
       " '반하지': 35561,\n",
       " '않을': 51690,\n",
       " '없는': 53792,\n",
       " '수만리': 45810,\n",
       " '고와': 11179,\n",
       " '이야': 60944,\n",
       " '능선암과': 21140,\n",
       " '뒤의': 25988,\n",
       " '완만한': 57098,\n",
       " '장의': 64982,\n",
       " '사진에': 41509,\n",
       " '오네': 55745,\n",
       " '넘은': 19433,\n",
       " '이제는': 61298,\n",
       " '입석대와': 62504,\n",
       " '서석대가': 43729,\n",
       " '방송국': 36133,\n",
       " '중계탑과': 69472,\n",
       " '장불재마저': 64867,\n",
       " '본디': 38295,\n",
       " '미련이': 34349,\n",
       " '사람인가': 40940,\n",
       " '거지': 9416,\n",
       " '암릉': 51968,\n",
       " '완전히': 57137,\n",
       " '벗어난다': 36978,\n",
       " '미세먼지': 34400,\n",
       " '때문인지': 27597,\n",
       " '시내의': 47246,\n",
       " '꿈속처럼': 16837,\n",
       " '희미하게': 85106,\n",
       " '장불재가': 64846,\n",
       " '멀지': 31230,\n",
       " '않았다': 51609,\n",
       " '서석대를': 43747,\n",
       " '같이': 8926,\n",
       " '주기에는': 68583,\n",
       " '이곳이': 60211,\n",
       " '포인트가': 79198,\n",
       " '되겠다는': 25274,\n",
       " '생각을': 43246,\n",
       " '하며': 80716,\n",
       " '군작전': 13869,\n",
       " '도로에서': 23836,\n",
       " '중계탑으로': 69473,\n",
       " '이어지는': 60998,\n",
       " '도로가': 23821,\n",
       " '정상까지는': 66789,\n",
       " '차량': 72169,\n",
       " '통제구역이긴': 77590,\n",
       " '하나': 80379,\n",
       " '허가된': 83010,\n",
       " '차량이라면': 72185,\n",
       " '가시거리가': 7485,\n",
       " '좋지': 68491,\n",
       " '않다': 51544,\n",
       " '줌인을': 69437,\n",
       " '해도': 82105,\n",
       " '희미하긴': 85107,\n",
       " '마찬가지다': 29071,\n",
       " '이곳에서라면': 60200,\n",
       " '한눈에': 81298,\n",
       " '들어오나': 26634,\n",
       " '보이지': 38035,\n",
       " '않는다': 51535,\n",
       " '벌써': 36889,\n",
       " '그림자가': 14601,\n",
       " '길어지고': 15912,\n",
       " '하산할': 80813,\n",
       " '거리를': 9326,\n",
       " '생각하면': 43282,\n",
       " '생각보다': 43230,\n",
       " '해가': 82036,\n",
       " '짧은': 71611,\n",
       " '가을이니': 7646,\n",
       " '서둘러야': 43648,\n",
       " '중봉의': 69599,\n",
       " '주변이': 68811,\n",
       " '걸린다': 9745,\n",
       " '서석대와': 43761,\n",
       " '광석대와': 12301,\n",
       " '오늘은': 55792,\n",
       " '모두': 31762,\n",
       " '패스': 78544,\n",
       " '주차장까지': 69099,\n",
       " '하산을': 80782,\n",
       " '1km가': 1071,\n",
       " '남았다': 18383,\n",
       " '하산길은': 80768,\n",
       " '징그러운디': 71503,\n",
       " '오메': 56117,\n",
       " '미치겠네': 34523,\n",
       " '하산길': 80759,\n",
       " ...}"
      ]
     },
     "execution_count": 34,
     "metadata": {},
     "output_type": "execute_result"
    }
   ],
   "source": [
    "blog_mt_cv3.vocabulary_"
   ]
  },
  {
   "cell_type": "code",
   "execution_count": 35,
   "metadata": {},
   "outputs": [
    {
     "data": {
      "text/plain": [
       "85363"
      ]
     },
     "execution_count": 35,
     "metadata": {},
     "output_type": "execute_result"
    }
   ],
   "source": [
    "len(blog_mt_cv3.vocabulary_)"
   ]
  },
  {
   "cell_type": "code",
   "execution_count": 36,
   "metadata": {},
   "outputs": [
    {
     "data": {
      "text/plain": [
       "<875x85363 sparse matrix of type '<class 'numpy.int64'>'\n",
       "\twith 290644 stored elements in Compressed Sparse Row format>"
      ]
     },
     "execution_count": 36,
     "metadata": {},
     "output_type": "execute_result"
    }
   ],
   "source": [
    "X_train_transform = blog_mt_cv3.transform(X_train)\n",
    "X_train_transform"
   ]
  },
  {
   "cell_type": "code",
   "execution_count": 37,
   "metadata": {},
   "outputs": [
    {
     "data": {
      "text/plain": [
       "<376x85363 sparse matrix of type '<class 'numpy.int64'>'\n",
       "\twith 92694 stored elements in Compressed Sparse Row format>"
      ]
     },
     "execution_count": 37,
     "metadata": {},
     "output_type": "execute_result"
    }
   ],
   "source": [
    "X_test_transform = blog_mt_cv3.transform(X_test)\n",
    "X_test_transform"
   ]
  },
  {
   "cell_type": "markdown",
   "metadata": {},
   "source": [
    "##### 선형 분류 모델 학습"
   ]
  },
  {
   "cell_type": "code",
   "execution_count": 38,
   "metadata": {},
   "outputs": [],
   "source": [
    "from sklearn.linear_model import LogisticRegression\n",
    "from sklearn.svm import LinearSVC\n",
    "from sklearn.model_selection import cross_val_score"
   ]
  },
  {
   "cell_type": "code",
   "execution_count": 39,
   "metadata": {},
   "outputs": [],
   "source": [
    "logi_model = LogisticRegression()\n",
    "scv_model = LinearSVC()"
   ]
  },
  {
   "cell_type": "code",
   "execution_count": 72,
   "metadata": {
    "scrolled": true
   },
   "outputs": [
    {
     "data": {
      "text/plain": [
       "0.9954285714285713"
      ]
     },
     "execution_count": 72,
     "metadata": {},
     "output_type": "execute_result"
    }
   ],
   "source": [
    "result = cross_val_score(logi_model, X_train_transform, y_train, cv=5)\n",
    "result.mean()"
   ]
  },
  {
   "cell_type": "code",
   "execution_count": 41,
   "metadata": {},
   "outputs": [
    {
     "data": {
      "text/plain": [
       "0.9954285714285713"
      ]
     },
     "execution_count": 41,
     "metadata": {},
     "output_type": "execute_result"
    }
   ],
   "source": [
    "result = cross_val_score(scv_model, X_train_transform, y_train, cv=5) # cv는 교차 검증 횟수\n",
    "result.mean()"
   ]
  },
  {
   "cell_type": "code",
   "execution_count": 73,
   "metadata": {},
   "outputs": [
    {
     "data": {
      "text/plain": [
       "0.9946808510638298"
      ]
     },
     "execution_count": 73,
     "metadata": {},
     "output_type": "execute_result"
    }
   ],
   "source": [
    "logi_model.fit(X_train_transform, y_train)\n",
    "logi_model.score(X_test_transform, y_test)"
   ]
  },
  {
   "cell_type": "code",
   "execution_count": 42,
   "metadata": {},
   "outputs": [
    {
     "data": {
      "text/html": [
       "<div>\n",
       "<style scoped>\n",
       "    .dataframe tbody tr th:only-of-type {\n",
       "        vertical-align: middle;\n",
       "    }\n",
       "\n",
       "    .dataframe tbody tr th {\n",
       "        vertical-align: top;\n",
       "    }\n",
       "\n",
       "    .dataframe thead th {\n",
       "        text-align: right;\n",
       "    }\n",
       "</style>\n",
       "<table border=\"1\" class=\"dataframe\">\n",
       "  <thead>\n",
       "    <tr style=\"text-align: right;\">\n",
       "      <th></th>\n",
       "      <th>0</th>\n",
       "    </tr>\n",
       "  </thead>\n",
       "  <tbody>\n",
       "    <tr>\n",
       "      <th>0</th>\n",
       "      <td>00</td>\n",
       "    </tr>\n",
       "    <tr>\n",
       "      <th>1</th>\n",
       "      <td>000</td>\n",
       "    </tr>\n",
       "    <tr>\n",
       "      <th>2</th>\n",
       "      <td>0001</td>\n",
       "    </tr>\n",
       "    <tr>\n",
       "      <th>3</th>\n",
       "      <td>00010</td>\n",
       "    </tr>\n",
       "    <tr>\n",
       "      <th>4</th>\n",
       "      <td>00011</td>\n",
       "    </tr>\n",
       "    <tr>\n",
       "      <th>...</th>\n",
       "      <td>...</td>\n",
       "    </tr>\n",
       "    <tr>\n",
       "      <th>85358</th>\n",
       "      <td>鍊光</td>\n",
       "    </tr>\n",
       "    <tr>\n",
       "      <th>85359</th>\n",
       "      <td>立石臺</td>\n",
       "    </tr>\n",
       "    <tr>\n",
       "      <th>85360</th>\n",
       "      <td>𝐡𝐚𝐩𝐩𝐲𝐫𝐞𝐧𝐚𝐢</td>\n",
       "    </tr>\n",
       "    <tr>\n",
       "      <th>85361</th>\n",
       "      <td>𝚝𝚘</td>\n",
       "    </tr>\n",
       "    <tr>\n",
       "      <th>85362</th>\n",
       "      <td>𝚠𝚎𝚕𝚌𝚘𝚖𝚎</td>\n",
       "    </tr>\n",
       "  </tbody>\n",
       "</table>\n",
       "<p>85363 rows × 1 columns</p>\n",
       "</div>"
      ],
      "text/plain": [
       "                0\n",
       "0              00\n",
       "1             000\n",
       "2            0001\n",
       "3           00010\n",
       "4           00011\n",
       "...           ...\n",
       "85358          鍊光\n",
       "85359         立石臺\n",
       "85360  𝐡𝐚𝐩𝐩𝐲𝐫𝐞𝐧𝐚𝐢\n",
       "85361          𝚝𝚘\n",
       "85362     𝚠𝚎𝚕𝚌𝚘𝚖𝚎\n",
       "\n",
       "[85363 rows x 1 columns]"
      ]
     },
     "execution_count": 42,
     "metadata": {},
     "output_type": "execute_result"
    }
   ],
   "source": [
    "word_dict = pd.DataFrame(blog_mt_cv3.vocabulary_.keys(),\n",
    "             index=blog_mt_cv3.vocabulary_.values()).sort_index()\n",
    "word_dict"
   ]
  },
  {
   "cell_type": "markdown",
   "metadata": {},
   "source": [
    "##### 불용어 처리"
   ]
  },
  {
   "cell_type": "code",
   "execution_count": 43,
   "metadata": {},
   "outputs": [
    {
     "data": {
      "text/html": [
       "<div>\n",
       "<style scoped>\n",
       "    .dataframe tbody tr th:only-of-type {\n",
       "        vertical-align: middle;\n",
       "    }\n",
       "\n",
       "    .dataframe tbody tr th {\n",
       "        vertical-align: top;\n",
       "    }\n",
       "\n",
       "    .dataframe thead th {\n",
       "        text-align: right;\n",
       "    }\n",
       "</style>\n",
       "<table border=\"1\" class=\"dataframe\">\n",
       "  <thead>\n",
       "    <tr style=\"text-align: right;\">\n",
       "      <th></th>\n",
       "      <th>0</th>\n",
       "      <th>1</th>\n",
       "      <th>2</th>\n",
       "    </tr>\n",
       "  </thead>\n",
       "  <tbody>\n",
       "    <tr>\n",
       "      <th>0</th>\n",
       "      <td>이</td>\n",
       "      <td>VCP</td>\n",
       "      <td>0.018280</td>\n",
       "    </tr>\n",
       "    <tr>\n",
       "      <th>1</th>\n",
       "      <td>있</td>\n",
       "      <td>VA</td>\n",
       "      <td>0.011699</td>\n",
       "    </tr>\n",
       "    <tr>\n",
       "      <th>2</th>\n",
       "      <td>하</td>\n",
       "      <td>VV</td>\n",
       "      <td>0.009774</td>\n",
       "    </tr>\n",
       "    <tr>\n",
       "      <th>3</th>\n",
       "      <td>것</td>\n",
       "      <td>NNB</td>\n",
       "      <td>0.009733</td>\n",
       "    </tr>\n",
       "    <tr>\n",
       "      <th>4</th>\n",
       "      <td>들</td>\n",
       "      <td>XSN</td>\n",
       "      <td>0.006898</td>\n",
       "    </tr>\n",
       "    <tr>\n",
       "      <th>...</th>\n",
       "      <td>...</td>\n",
       "      <td>...</td>\n",
       "      <td>...</td>\n",
       "    </tr>\n",
       "    <tr>\n",
       "      <th>95</th>\n",
       "      <td>원</td>\n",
       "      <td>NNB</td>\n",
       "      <td>0.000492</td>\n",
       "    </tr>\n",
       "    <tr>\n",
       "      <th>96</th>\n",
       "      <td>잘</td>\n",
       "      <td>MAG</td>\n",
       "      <td>0.000491</td>\n",
       "    </tr>\n",
       "    <tr>\n",
       "      <th>97</th>\n",
       "      <td>통하</td>\n",
       "      <td>VV</td>\n",
       "      <td>0.000487</td>\n",
       "    </tr>\n",
       "    <tr>\n",
       "      <th>98</th>\n",
       "      <td>소리</td>\n",
       "      <td>NNG</td>\n",
       "      <td>0.000486</td>\n",
       "    </tr>\n",
       "    <tr>\n",
       "      <th>99</th>\n",
       "      <td>놓</td>\n",
       "      <td>VX</td>\n",
       "      <td>0.000483</td>\n",
       "    </tr>\n",
       "  </tbody>\n",
       "</table>\n",
       "<p>100 rows × 3 columns</p>\n",
       "</div>"
      ],
      "text/plain": [
       "     0    1         2\n",
       "0    이  VCP  0.018280\n",
       "1    있   VA  0.011699\n",
       "2    하   VV  0.009774\n",
       "3    것  NNB  0.009733\n",
       "4    들  XSN  0.006898\n",
       "..  ..  ...       ...\n",
       "95   원  NNB  0.000492\n",
       "96   잘  MAG  0.000491\n",
       "97  통하   VV  0.000487\n",
       "98  소리  NNG  0.000486\n",
       "99   놓   VX  0.000483\n",
       "\n",
       "[100 rows x 3 columns]"
      ]
     },
     "execution_count": 43,
     "metadata": {},
     "output_type": "execute_result"
    }
   ],
   "source": [
    "korean_stop_words = pd.read_csv('한국어불용어100.txt', \n",
    "                                delimiter='\\t',\n",
    "                               header = None)\n",
    "korean_stop_words"
   ]
  },
  {
   "cell_type": "code",
   "execution_count": 44,
   "metadata": {},
   "outputs": [
    {
     "data": {
      "text/plain": [
       "['패밀리랜드',\n",
       " '광주패밀리랜드',\n",
       " '패밀리',\n",
       " '동물원',\n",
       " '랜드',\n",
       " '증심사',\n",
       " '무등산국립공원동부사무소',\n",
       " '국립공원',\n",
       " '무등산국립공원',\n",
       " '무등산']"
      ]
     },
     "execution_count": 44,
     "metadata": {},
     "output_type": "execute_result"
    }
   ],
   "source": [
    "total_stop_words_list = ['패밀리랜드', '광주패밀리랜드', '패밀리', '동물원', '랜드', '증심사', '무등산국립공원동부사무소', '국립공원', '무등산국립공원', '무등산']\n",
    "total_stop_words_list"
   ]
  },
  {
   "cell_type": "code",
   "execution_count": 67,
   "metadata": {
    "scrolled": true
   },
   "outputs": [
    {
     "data": {
      "text/plain": [
       "['이',\n",
       " '있',\n",
       " '하',\n",
       " '것',\n",
       " '들',\n",
       " '그',\n",
       " '되',\n",
       " '수',\n",
       " '이',\n",
       " '보',\n",
       " '않',\n",
       " '없',\n",
       " '나',\n",
       " '사람',\n",
       " '주',\n",
       " '아니',\n",
       " '등',\n",
       " '같',\n",
       " '우리',\n",
       " '때',\n",
       " '년',\n",
       " '가',\n",
       " '한',\n",
       " '지',\n",
       " '대하',\n",
       " '오',\n",
       " '말',\n",
       " '일',\n",
       " '그렇',\n",
       " '위하',\n",
       " '때문',\n",
       " '그것',\n",
       " '두',\n",
       " '말하',\n",
       " '알',\n",
       " '그러나',\n",
       " '받',\n",
       " '못하',\n",
       " '일',\n",
       " '그런',\n",
       " '또',\n",
       " '문제',\n",
       " '더',\n",
       " '사회',\n",
       " '많',\n",
       " '그리고',\n",
       " '좋',\n",
       " '크',\n",
       " '따르',\n",
       " '중',\n",
       " '나오',\n",
       " '가지',\n",
       " '씨',\n",
       " '시키',\n",
       " '만들',\n",
       " '지금',\n",
       " '생각하',\n",
       " '그러',\n",
       " '속',\n",
       " '하나',\n",
       " '집',\n",
       " '살',\n",
       " '모르',\n",
       " '적',\n",
       " '월',\n",
       " '데',\n",
       " '자신',\n",
       " '안',\n",
       " '어떤',\n",
       " '내',\n",
       " '내',\n",
       " '경우',\n",
       " '명',\n",
       " '생각',\n",
       " '시간',\n",
       " '그녀',\n",
       " '다시',\n",
       " '이런',\n",
       " '앞',\n",
       " '보이',\n",
       " '번',\n",
       " '나',\n",
       " '다른',\n",
       " '어떻',\n",
       " '여자',\n",
       " '개',\n",
       " '전',\n",
       " '들',\n",
       " '사실',\n",
       " '이렇',\n",
       " '점',\n",
       " '싶',\n",
       " '말',\n",
       " '정도',\n",
       " '좀',\n",
       " '원',\n",
       " '잘',\n",
       " '통하',\n",
       " '소리',\n",
       " '놓']"
      ]
     },
     "execution_count": 67,
     "metadata": {},
     "output_type": "execute_result"
    }
   ],
   "source": [
    "korean_stop_words_list = korean_stop_words[0].tolist() # 시리즈를 파이썬의 리스트 형식으로 변환\n",
    "korean_stop_words_list"
   ]
  },
  {
   "cell_type": "code",
   "execution_count": 68,
   "metadata": {},
   "outputs": [
    {
     "data": {
      "text/plain": [
       "CountVectorizer(analyzer='word', binary=False, decode_error='strict',\n",
       "                dtype=<class 'numpy.int64'>, encoding='utf-8', input='content',\n",
       "                lowercase=True, max_df=1.0, max_features=None, min_df=1,\n",
       "                ngram_range=(1, 1), preprocessor=None,\n",
       "                stop_words=['이', '있', '하', '것', '들', '그', '되', '수', '이', '보',\n",
       "                            '않', '없', '나', '사람', '주', '아니', '등', '같', '우리', '때',\n",
       "                            '년', '가', '한', '지', '대하', '오', '말', '일', '그렇', '위하', ...],\n",
       "                strip_accents=None, token_pattern='(?u)\\\\b\\\\w\\\\w+\\\\b',\n",
       "                tokenizer=None, vocabulary=None)"
      ]
     },
     "execution_count": 68,
     "metadata": {},
     "output_type": "execute_result"
    }
   ],
   "source": [
    "blog_mt_cv4 = CountVectorizer(stop_words=korean_stop_words_list)\n",
    "blog_mt_cv4"
   ]
  },
  {
   "cell_type": "code",
   "execution_count": 69,
   "metadata": {},
   "outputs": [
    {
     "data": {
      "text/plain": [
       "85335"
      ]
     },
     "execution_count": 69,
     "metadata": {},
     "output_type": "execute_result"
    }
   ],
   "source": [
    "blog_mt_cv4.fit(X_train)\n",
    "len(blog_mt_cv4.vocabulary_)"
   ]
  },
  {
   "cell_type": "markdown",
   "metadata": {},
   "source": [
    "##### min_df, max_df"
   ]
  },
  {
   "cell_type": "code",
   "execution_count": 42,
   "metadata": {},
   "outputs": [],
   "source": [
    "blog_mt_cv4 = CountVectorizer(stop_words=korean_stop_words_list+total_stop_words_list,\n",
    "                           min_df = 6, # 기본값 1, min_df는 오타를 최소 해주는 효과가 있다. 오타는 횟수가 적으므로\n",
    "                           max_df = 0.7) # 기본값 1.0 은 100%"
   ]
  },
  {
   "cell_type": "code",
   "execution_count": 43,
   "metadata": {},
   "outputs": [
    {
     "data": {
      "text/plain": [
       "5158"
      ]
     },
     "execution_count": 43,
     "metadata": {},
     "output_type": "execute_result"
    }
   ],
   "source": [
    "blog_mt_cv4.fit(X_train)\n",
    "len(blog_mt_cv4.vocabulary_)"
   ]
  },
  {
   "cell_type": "code",
   "execution_count": 44,
   "metadata": {},
   "outputs": [
    {
     "data": {
      "text/plain": [
       "<875x5158 sparse matrix of type '<class 'numpy.int64'>'\n",
       "\twith 114515 stored elements in Compressed Sparse Row format>"
      ]
     },
     "execution_count": 44,
     "metadata": {},
     "output_type": "execute_result"
    }
   ],
   "source": [
    "X_train_transform = blog_mt_cv4.transform(X_train)\n",
    "X_train_transform"
   ]
  },
  {
   "cell_type": "code",
   "execution_count": 45,
   "metadata": {},
   "outputs": [
    {
     "data": {
      "text/plain": [
       "<376x5158 sparse matrix of type '<class 'numpy.int64'>'\n",
       "\twith 44267 stored elements in Compressed Sparse Row format>"
      ]
     },
     "execution_count": 45,
     "metadata": {},
     "output_type": "execute_result"
    }
   ],
   "source": [
    "X_test_transform = blog_mt_cv4.transform(X_test)\n",
    "X_test_transform"
   ]
  },
  {
   "cell_type": "code",
   "execution_count": 46,
   "metadata": {},
   "outputs": [
    {
     "data": {
      "text/plain": [
       "0.9531428571428572"
      ]
     },
     "execution_count": 46,
     "metadata": {},
     "output_type": "execute_result"
    }
   ],
   "source": [
    "result = cross_val_score(logi_model, X_train_transform, y_train, cv=5)\n",
    "result.mean()"
   ]
  },
  {
   "cell_type": "code",
   "execution_count": 47,
   "metadata": {},
   "outputs": [
    {
     "data": {
      "text/plain": [
       "0.9474285714285713"
      ]
     },
     "execution_count": 47,
     "metadata": {},
     "output_type": "execute_result"
    }
   ],
   "source": [
    "result = cross_val_score(scv_model, X_train_transform, y_train, cv=5) # cv는 교차 검증 횟수\n",
    "result.mean()"
   ]
  },
  {
   "cell_type": "code",
   "execution_count": 48,
   "metadata": {},
   "outputs": [
    {
     "data": {
      "text/html": [
       "<div>\n",
       "<style scoped>\n",
       "    .dataframe tbody tr th:only-of-type {\n",
       "        vertical-align: middle;\n",
       "    }\n",
       "\n",
       "    .dataframe tbody tr th {\n",
       "        vertical-align: top;\n",
       "    }\n",
       "\n",
       "    .dataframe thead th {\n",
       "        text-align: right;\n",
       "    }\n",
       "</style>\n",
       "<table border=\"1\" class=\"dataframe\">\n",
       "  <thead>\n",
       "    <tr style=\"text-align: right;\">\n",
       "      <th></th>\n",
       "      <th>0</th>\n",
       "    </tr>\n",
       "  </thead>\n",
       "  <tbody>\n",
       "    <tr>\n",
       "      <th>0</th>\n",
       "      <td>00</td>\n",
       "    </tr>\n",
       "    <tr>\n",
       "      <th>1</th>\n",
       "      <td>000</td>\n",
       "    </tr>\n",
       "    <tr>\n",
       "      <th>2</th>\n",
       "      <td>000원</td>\n",
       "    </tr>\n",
       "    <tr>\n",
       "      <th>3</th>\n",
       "      <td>000원에</td>\n",
       "    </tr>\n",
       "    <tr>\n",
       "      <th>4</th>\n",
       "      <td>01</td>\n",
       "    </tr>\n",
       "    <tr>\n",
       "      <th>...</th>\n",
       "      <td>...</td>\n",
       "    </tr>\n",
       "    <tr>\n",
       "      <th>5153</th>\n",
       "      <td>힘들었다</td>\n",
       "    </tr>\n",
       "    <tr>\n",
       "      <th>5154</th>\n",
       "      <td>힘들지</td>\n",
       "    </tr>\n",
       "    <tr>\n",
       "      <th>5155</th>\n",
       "      <td>힘을</td>\n",
       "    </tr>\n",
       "    <tr>\n",
       "      <th>5156</th>\n",
       "      <td>힘이</td>\n",
       "    </tr>\n",
       "    <tr>\n",
       "      <th>5157</th>\n",
       "      <td>힘차게</td>\n",
       "    </tr>\n",
       "  </tbody>\n",
       "</table>\n",
       "<p>5158 rows × 1 columns</p>\n",
       "</div>"
      ],
      "text/plain": [
       "          0\n",
       "0        00\n",
       "1       000\n",
       "2      000원\n",
       "3     000원에\n",
       "4        01\n",
       "...     ...\n",
       "5153   힘들었다\n",
       "5154    힘들지\n",
       "5155     힘을\n",
       "5156     힘이\n",
       "5157    힘차게\n",
       "\n",
       "[5158 rows x 1 columns]"
      ]
     },
     "execution_count": 48,
     "metadata": {},
     "output_type": "execute_result"
    }
   ],
   "source": [
    "word_dict = pd.DataFrame(blog_mt_cv4.vocabulary_.keys(),\n",
    "             index=blog_mt_cv4.vocabulary_.values()).sort_index()\n",
    "word_dict"
   ]
  },
  {
   "cell_type": "code",
   "execution_count": 49,
   "metadata": {},
   "outputs": [
    {
     "data": {
      "text/plain": [
       "LogisticRegression(C=1.0, class_weight=None, dual=False, fit_intercept=True,\n",
       "                   intercept_scaling=1, l1_ratio=None, max_iter=100,\n",
       "                   multi_class='auto', n_jobs=None, penalty='l2',\n",
       "                   random_state=None, solver='lbfgs', tol=0.0001, verbose=0,\n",
       "                   warm_start=False)"
      ]
     },
     "execution_count": 49,
     "metadata": {},
     "output_type": "execute_result"
    }
   ],
   "source": [
    "logi_model"
   ]
  },
  {
   "cell_type": "code",
   "execution_count": 55,
   "metadata": {},
   "outputs": [
    {
     "data": {
      "text/plain": [
       "(1, 5158)"
      ]
     },
     "execution_count": 55,
     "metadata": {},
     "output_type": "execute_result"
    }
   ],
   "source": [
    "logi_model.coef_.shape"
   ]
  },
  {
   "cell_type": "code",
   "execution_count": 56,
   "metadata": {},
   "outputs": [
    {
     "data": {
      "text/plain": [
       "array([[-0.35784798, -0.01829776, -0.04306908, ...,  0.0022946 ,\n",
       "        -0.03496837, -0.16386052]])"
      ]
     },
     "execution_count": 56,
     "metadata": {},
     "output_type": "execute_result"
    }
   ],
   "source": [
    "logi_model.coef_"
   ]
  },
  {
   "cell_type": "code",
   "execution_count": 57,
   "metadata": {
    "scrolled": true
   },
   "outputs": [
    {
     "data": {
      "text/html": [
       "<div>\n",
       "<style scoped>\n",
       "    .dataframe tbody tr th:only-of-type {\n",
       "        vertical-align: middle;\n",
       "    }\n",
       "\n",
       "    .dataframe tbody tr th {\n",
       "        vertical-align: top;\n",
       "    }\n",
       "\n",
       "    .dataframe thead th {\n",
       "        text-align: right;\n",
       "    }\n",
       "</style>\n",
       "<table border=\"1\" class=\"dataframe\">\n",
       "  <thead>\n",
       "    <tr style=\"text-align: right;\">\n",
       "      <th></th>\n",
       "      <th>0</th>\n",
       "      <th>coef</th>\n",
       "    </tr>\n",
       "  </thead>\n",
       "  <tbody>\n",
       "    <tr>\n",
       "      <th>0</th>\n",
       "      <td>00</td>\n",
       "      <td>-0.357848</td>\n",
       "    </tr>\n",
       "    <tr>\n",
       "      <th>1</th>\n",
       "      <td>000</td>\n",
       "      <td>-0.018298</td>\n",
       "    </tr>\n",
       "    <tr>\n",
       "      <th>2</th>\n",
       "      <td>000원</td>\n",
       "      <td>-0.043069</td>\n",
       "    </tr>\n",
       "    <tr>\n",
       "      <th>3</th>\n",
       "      <td>000원에</td>\n",
       "      <td>-0.010232</td>\n",
       "    </tr>\n",
       "    <tr>\n",
       "      <th>4</th>\n",
       "      <td>01</td>\n",
       "      <td>0.242508</td>\n",
       "    </tr>\n",
       "    <tr>\n",
       "      <th>...</th>\n",
       "      <td>...</td>\n",
       "      <td>...</td>\n",
       "    </tr>\n",
       "    <tr>\n",
       "      <th>5153</th>\n",
       "      <td>힘들었다</td>\n",
       "      <td>0.046150</td>\n",
       "    </tr>\n",
       "    <tr>\n",
       "      <th>5154</th>\n",
       "      <td>힘들지</td>\n",
       "      <td>0.012274</td>\n",
       "    </tr>\n",
       "    <tr>\n",
       "      <th>5155</th>\n",
       "      <td>힘을</td>\n",
       "      <td>0.002295</td>\n",
       "    </tr>\n",
       "    <tr>\n",
       "      <th>5156</th>\n",
       "      <td>힘이</td>\n",
       "      <td>-0.034968</td>\n",
       "    </tr>\n",
       "    <tr>\n",
       "      <th>5157</th>\n",
       "      <td>힘차게</td>\n",
       "      <td>-0.163861</td>\n",
       "    </tr>\n",
       "  </tbody>\n",
       "</table>\n",
       "<p>5158 rows × 2 columns</p>\n",
       "</div>"
      ],
      "text/plain": [
       "          0      coef\n",
       "0        00 -0.357848\n",
       "1       000 -0.018298\n",
       "2      000원 -0.043069\n",
       "3     000원에 -0.010232\n",
       "4        01  0.242508\n",
       "...     ...       ...\n",
       "5153   힘들었다  0.046150\n",
       "5154    힘들지  0.012274\n",
       "5155     힘을  0.002295\n",
       "5156     힘이 -0.034968\n",
       "5157    힘차게 -0.163861\n",
       "\n",
       "[5158 rows x 2 columns]"
      ]
     },
     "execution_count": 57,
     "metadata": {},
     "output_type": "execute_result"
    }
   ],
   "source": [
    "word_dict['coef'] = logi_model.coef_.T\n",
    "word_dict"
   ]
  },
  {
   "cell_type": "code",
   "execution_count": 58,
   "metadata": {},
   "outputs": [
    {
     "data": {
      "text/html": [
       "<div>\n",
       "<style scoped>\n",
       "    .dataframe tbody tr th:only-of-type {\n",
       "        vertical-align: middle;\n",
       "    }\n",
       "\n",
       "    .dataframe tbody tr th {\n",
       "        vertical-align: top;\n",
       "    }\n",
       "\n",
       "    .dataframe thead th {\n",
       "        text-align: right;\n",
       "    }\n",
       "</style>\n",
       "<table border=\"1\" class=\"dataframe\">\n",
       "  <thead>\n",
       "    <tr style=\"text-align: right;\">\n",
       "      <th></th>\n",
       "      <th>0</th>\n",
       "      <th>coef</th>\n",
       "    </tr>\n",
       "  </thead>\n",
       "  <tbody>\n",
       "    <tr>\n",
       "      <th>3541</th>\n",
       "      <td>우치공원</td>\n",
       "      <td>-0.827578</td>\n",
       "    </tr>\n",
       "    <tr>\n",
       "      <th>1286</th>\n",
       "      <td>놀이기구</td>\n",
       "      <td>-0.629193</td>\n",
       "    </tr>\n",
       "    <tr>\n",
       "      <th>2470</th>\n",
       "      <td>빛축제</td>\n",
       "      <td>-0.577759</td>\n",
       "    </tr>\n",
       "    <tr>\n",
       "      <th>4667</th>\n",
       "      <td>타고</td>\n",
       "      <td>-0.469829</td>\n",
       "    </tr>\n",
       "    <tr>\n",
       "      <th>4611</th>\n",
       "      <td>카라반</td>\n",
       "      <td>-0.460483</td>\n",
       "    </tr>\n",
       "    <tr>\n",
       "      <th>...</th>\n",
       "      <td>...</td>\n",
       "      <td>...</td>\n",
       "    </tr>\n",
       "    <tr>\n",
       "      <th>2081</th>\n",
       "      <td>무등산에</td>\n",
       "      <td>0.482691</td>\n",
       "    </tr>\n",
       "    <tr>\n",
       "      <th>2663</th>\n",
       "      <td>서석대</td>\n",
       "      <td>0.553136</td>\n",
       "    </tr>\n",
       "    <tr>\n",
       "      <th>3583</th>\n",
       "      <td>원효사</td>\n",
       "      <td>0.576883</td>\n",
       "    </tr>\n",
       "    <tr>\n",
       "      <th>2087</th>\n",
       "      <td>무등산을</td>\n",
       "      <td>0.615701</td>\n",
       "    </tr>\n",
       "    <tr>\n",
       "      <th>94</th>\n",
       "      <td>2013</td>\n",
       "      <td>0.652672</td>\n",
       "    </tr>\n",
       "  </tbody>\n",
       "</table>\n",
       "<p>5158 rows × 2 columns</p>\n",
       "</div>"
      ],
      "text/plain": [
       "         0      coef\n",
       "3541  우치공원 -0.827578\n",
       "1286  놀이기구 -0.629193\n",
       "2470   빛축제 -0.577759\n",
       "4667    타고 -0.469829\n",
       "4611   카라반 -0.460483\n",
       "...    ...       ...\n",
       "2081  무등산에  0.482691\n",
       "2663   서석대  0.553136\n",
       "3583   원효사  0.576883\n",
       "2087  무등산을  0.615701\n",
       "94    2013  0.652672\n",
       "\n",
       "[5158 rows x 2 columns]"
      ]
     },
     "execution_count": 58,
     "metadata": {},
     "output_type": "execute_result"
    }
   ],
   "source": [
    "word_dict.sort_values(by='coef')"
   ]
  },
  {
   "cell_type": "code",
   "execution_count": 59,
   "metadata": {},
   "outputs": [
    {
     "data": {
      "text/html": [
       "<div>\n",
       "<style scoped>\n",
       "    .dataframe tbody tr th:only-of-type {\n",
       "        vertical-align: middle;\n",
       "    }\n",
       "\n",
       "    .dataframe tbody tr th {\n",
       "        vertical-align: top;\n",
       "    }\n",
       "\n",
       "    .dataframe thead th {\n",
       "        text-align: right;\n",
       "    }\n",
       "</style>\n",
       "<table border=\"1\" class=\"dataframe\">\n",
       "  <thead>\n",
       "    <tr style=\"text-align: right;\">\n",
       "      <th></th>\n",
       "      <th>0</th>\n",
       "      <th>coef</th>\n",
       "    </tr>\n",
       "  </thead>\n",
       "  <tbody>\n",
       "    <tr>\n",
       "      <th>3541</th>\n",
       "      <td>우치공원</td>\n",
       "      <td>-0.827578</td>\n",
       "    </tr>\n",
       "    <tr>\n",
       "      <th>1286</th>\n",
       "      <td>놀이기구</td>\n",
       "      <td>-0.629193</td>\n",
       "    </tr>\n",
       "    <tr>\n",
       "      <th>2470</th>\n",
       "      <td>빛축제</td>\n",
       "      <td>-0.577759</td>\n",
       "    </tr>\n",
       "    <tr>\n",
       "      <th>4667</th>\n",
       "      <td>타고</td>\n",
       "      <td>-0.469829</td>\n",
       "    </tr>\n",
       "    <tr>\n",
       "      <th>4611</th>\n",
       "      <td>카라반</td>\n",
       "      <td>-0.460483</td>\n",
       "    </tr>\n",
       "    <tr>\n",
       "      <th>4644</th>\n",
       "      <td>코로나19</td>\n",
       "      <td>-0.441322</td>\n",
       "    </tr>\n",
       "    <tr>\n",
       "      <th>1276</th>\n",
       "      <td>놀이공원</td>\n",
       "      <td>-0.437123</td>\n",
       "    </tr>\n",
       "    <tr>\n",
       "      <th>3380</th>\n",
       "      <td>오랜만에</td>\n",
       "      <td>-0.436190</td>\n",
       "    </tr>\n",
       "    <tr>\n",
       "      <th>1566</th>\n",
       "      <td>동물원에</td>\n",
       "      <td>-0.435679</td>\n",
       "    </tr>\n",
       "    <tr>\n",
       "      <th>747</th>\n",
       "      <td>공연</td>\n",
       "      <td>-0.415426</td>\n",
       "    </tr>\n",
       "    <tr>\n",
       "      <th>4773</th>\n",
       "      <td>패밀리세일</td>\n",
       "      <td>-0.413771</td>\n",
       "    </tr>\n",
       "    <tr>\n",
       "      <th>2501</th>\n",
       "      <td>사람이</td>\n",
       "      <td>-0.412238</td>\n",
       "    </tr>\n",
       "    <tr>\n",
       "      <th>3005</th>\n",
       "      <td>아이들</td>\n",
       "      <td>-0.402451</td>\n",
       "    </tr>\n",
       "    <tr>\n",
       "      <th>90</th>\n",
       "      <td>2011</td>\n",
       "      <td>-0.401881</td>\n",
       "    </tr>\n",
       "    <tr>\n",
       "      <th>1092</th>\n",
       "      <td>나도</td>\n",
       "      <td>-0.379914</td>\n",
       "    </tr>\n",
       "    <tr>\n",
       "      <th>1498</th>\n",
       "      <td>데리고</td>\n",
       "      <td>-0.376937</td>\n",
       "    </tr>\n",
       "    <tr>\n",
       "      <th>2408</th>\n",
       "      <td>북구</td>\n",
       "      <td>-0.375125</td>\n",
       "    </tr>\n",
       "    <tr>\n",
       "      <th>3657</th>\n",
       "      <td>이날</td>\n",
       "      <td>-0.371865</td>\n",
       "    </tr>\n",
       "    <tr>\n",
       "      <th>4765</th>\n",
       "      <td>패밀리랜드를</td>\n",
       "      <td>-0.369247</td>\n",
       "    </tr>\n",
       "    <tr>\n",
       "      <th>393</th>\n",
       "      <td>ㅋㅋㅋ</td>\n",
       "      <td>-0.359539</td>\n",
       "    </tr>\n",
       "  </tbody>\n",
       "</table>\n",
       "</div>"
      ],
      "text/plain": [
       "           0      coef\n",
       "3541    우치공원 -0.827578\n",
       "1286    놀이기구 -0.629193\n",
       "2470     빛축제 -0.577759\n",
       "4667      타고 -0.469829\n",
       "4611     카라반 -0.460483\n",
       "4644   코로나19 -0.441322\n",
       "1276    놀이공원 -0.437123\n",
       "3380    오랜만에 -0.436190\n",
       "1566    동물원에 -0.435679\n",
       "747       공연 -0.415426\n",
       "4773   패밀리세일 -0.413771\n",
       "2501     사람이 -0.412238\n",
       "3005     아이들 -0.402451\n",
       "90      2011 -0.401881\n",
       "1092      나도 -0.379914\n",
       "1498     데리고 -0.376937\n",
       "2408      북구 -0.375125\n",
       "3657      이날 -0.371865\n",
       "4765  패밀리랜드를 -0.369247\n",
       "393      ㅋㅋㅋ -0.359539"
      ]
     },
     "execution_count": 59,
     "metadata": {},
     "output_type": "execute_result"
    }
   ],
   "source": [
    "word_dict.sort_values(by='coef').head(20)"
   ]
  },
  {
   "cell_type": "code",
   "execution_count": 60,
   "metadata": {},
   "outputs": [
    {
     "data": {
      "text/html": [
       "<div>\n",
       "<style scoped>\n",
       "    .dataframe tbody tr th:only-of-type {\n",
       "        vertical-align: middle;\n",
       "    }\n",
       "\n",
       "    .dataframe tbody tr th {\n",
       "        vertical-align: top;\n",
       "    }\n",
       "\n",
       "    .dataframe thead th {\n",
       "        text-align: right;\n",
       "    }\n",
       "</style>\n",
       "<table border=\"1\" class=\"dataframe\">\n",
       "  <thead>\n",
       "    <tr style=\"text-align: right;\">\n",
       "      <th></th>\n",
       "      <th>0</th>\n",
       "      <th>coef</th>\n",
       "    </tr>\n",
       "  </thead>\n",
       "  <tbody>\n",
       "    <tr>\n",
       "      <th>94</th>\n",
       "      <td>2013</td>\n",
       "      <td>0.652672</td>\n",
       "    </tr>\n",
       "    <tr>\n",
       "      <th>2087</th>\n",
       "      <td>무등산을</td>\n",
       "      <td>0.615701</td>\n",
       "    </tr>\n",
       "    <tr>\n",
       "      <th>3583</th>\n",
       "      <td>원효사</td>\n",
       "      <td>0.576883</td>\n",
       "    </tr>\n",
       "    <tr>\n",
       "      <th>2663</th>\n",
       "      <td>서석대</td>\n",
       "      <td>0.553136</td>\n",
       "    </tr>\n",
       "    <tr>\n",
       "      <th>2081</th>\n",
       "      <td>무등산에</td>\n",
       "      <td>0.482691</td>\n",
       "    </tr>\n",
       "    <tr>\n",
       "      <th>1722</th>\n",
       "      <td>등산</td>\n",
       "      <td>0.470562</td>\n",
       "    </tr>\n",
       "    <tr>\n",
       "      <th>106</th>\n",
       "      <td>2019</td>\n",
       "      <td>0.468157</td>\n",
       "    </tr>\n",
       "    <tr>\n",
       "      <th>4306</th>\n",
       "      <td>중머리재</td>\n",
       "      <td>0.465274</td>\n",
       "    </tr>\n",
       "    <tr>\n",
       "      <th>2965</th>\n",
       "      <td>아름다운</td>\n",
       "      <td>0.461442</td>\n",
       "    </tr>\n",
       "    <tr>\n",
       "      <th>1664</th>\n",
       "      <td>드라이브</td>\n",
       "      <td>0.458961</td>\n",
       "    </tr>\n",
       "    <tr>\n",
       "      <th>102</th>\n",
       "      <td>2017</td>\n",
       "      <td>0.451657</td>\n",
       "    </tr>\n",
       "    <tr>\n",
       "      <th>104</th>\n",
       "      <td>2018</td>\n",
       "      <td>0.449419</td>\n",
       "    </tr>\n",
       "    <tr>\n",
       "      <th>1554</th>\n",
       "      <td>동구</td>\n",
       "      <td>0.421446</td>\n",
       "    </tr>\n",
       "    <tr>\n",
       "      <th>1854</th>\n",
       "      <td>만연산</td>\n",
       "      <td>0.395351</td>\n",
       "    </tr>\n",
       "    <tr>\n",
       "      <th>876</th>\n",
       "      <td>국립공원으로</td>\n",
       "      <td>0.380567</td>\n",
       "    </tr>\n",
       "    <tr>\n",
       "      <th>2086</th>\n",
       "      <td>무등산은</td>\n",
       "      <td>0.365083</td>\n",
       "    </tr>\n",
       "    <tr>\n",
       "      <th>2261</th>\n",
       "      <td>버스</td>\n",
       "      <td>0.364194</td>\n",
       "    </tr>\n",
       "    <tr>\n",
       "      <th>2578</th>\n",
       "      <td>산행</td>\n",
       "      <td>0.350509</td>\n",
       "    </tr>\n",
       "    <tr>\n",
       "      <th>4120</th>\n",
       "      <td>정상</td>\n",
       "      <td>0.349214</td>\n",
       "    </tr>\n",
       "    <tr>\n",
       "      <th>732</th>\n",
       "      <td>곳에</td>\n",
       "      <td>0.347426</td>\n",
       "    </tr>\n",
       "  </tbody>\n",
       "</table>\n",
       "</div>"
      ],
      "text/plain": [
       "           0      coef\n",
       "94      2013  0.652672\n",
       "2087    무등산을  0.615701\n",
       "3583     원효사  0.576883\n",
       "2663     서석대  0.553136\n",
       "2081    무등산에  0.482691\n",
       "1722      등산  0.470562\n",
       "106     2019  0.468157\n",
       "4306    중머리재  0.465274\n",
       "2965    아름다운  0.461442\n",
       "1664    드라이브  0.458961\n",
       "102     2017  0.451657\n",
       "104     2018  0.449419\n",
       "1554      동구  0.421446\n",
       "1854     만연산  0.395351\n",
       "876   국립공원으로  0.380567\n",
       "2086    무등산은  0.365083\n",
       "2261      버스  0.364194\n",
       "2578      산행  0.350509\n",
       "4120      정상  0.349214\n",
       "732       곳에  0.347426"
      ]
     },
     "execution_count": 60,
     "metadata": {},
     "output_type": "execute_result"
    }
   ],
   "source": [
    "word_dict.sort_values(by='coef', \n",
    "                      ascending=False).head(20)"
   ]
  },
  {
   "cell_type": "code",
   "execution_count": 61,
   "metadata": {},
   "outputs": [
    {
     "data": {
      "text/html": [
       "<div>\n",
       "<style scoped>\n",
       "    .dataframe tbody tr th:only-of-type {\n",
       "        vertical-align: middle;\n",
       "    }\n",
       "\n",
       "    .dataframe tbody tr th {\n",
       "        vertical-align: top;\n",
       "    }\n",
       "\n",
       "    .dataframe thead th {\n",
       "        text-align: right;\n",
       "    }\n",
       "</style>\n",
       "<table border=\"1\" class=\"dataframe\">\n",
       "  <thead>\n",
       "    <tr style=\"text-align: right;\">\n",
       "      <th></th>\n",
       "      <th>0</th>\n",
       "      <th>coef</th>\n",
       "    </tr>\n",
       "  </thead>\n",
       "  <tbody>\n",
       "    <tr>\n",
       "      <th>732</th>\n",
       "      <td>곳에</td>\n",
       "      <td>0.347426</td>\n",
       "    </tr>\n",
       "    <tr>\n",
       "      <th>4120</th>\n",
       "      <td>정상</td>\n",
       "      <td>0.349214</td>\n",
       "    </tr>\n",
       "    <tr>\n",
       "      <th>2578</th>\n",
       "      <td>산행</td>\n",
       "      <td>0.350509</td>\n",
       "    </tr>\n",
       "    <tr>\n",
       "      <th>2261</th>\n",
       "      <td>버스</td>\n",
       "      <td>0.364194</td>\n",
       "    </tr>\n",
       "    <tr>\n",
       "      <th>2086</th>\n",
       "      <td>무등산은</td>\n",
       "      <td>0.365083</td>\n",
       "    </tr>\n",
       "    <tr>\n",
       "      <th>876</th>\n",
       "      <td>국립공원으로</td>\n",
       "      <td>0.380567</td>\n",
       "    </tr>\n",
       "    <tr>\n",
       "      <th>1854</th>\n",
       "      <td>만연산</td>\n",
       "      <td>0.395351</td>\n",
       "    </tr>\n",
       "    <tr>\n",
       "      <th>1554</th>\n",
       "      <td>동구</td>\n",
       "      <td>0.421446</td>\n",
       "    </tr>\n",
       "    <tr>\n",
       "      <th>104</th>\n",
       "      <td>2018</td>\n",
       "      <td>0.449419</td>\n",
       "    </tr>\n",
       "    <tr>\n",
       "      <th>102</th>\n",
       "      <td>2017</td>\n",
       "      <td>0.451657</td>\n",
       "    </tr>\n",
       "    <tr>\n",
       "      <th>1664</th>\n",
       "      <td>드라이브</td>\n",
       "      <td>0.458961</td>\n",
       "    </tr>\n",
       "    <tr>\n",
       "      <th>2965</th>\n",
       "      <td>아름다운</td>\n",
       "      <td>0.461442</td>\n",
       "    </tr>\n",
       "    <tr>\n",
       "      <th>4306</th>\n",
       "      <td>중머리재</td>\n",
       "      <td>0.465274</td>\n",
       "    </tr>\n",
       "    <tr>\n",
       "      <th>106</th>\n",
       "      <td>2019</td>\n",
       "      <td>0.468157</td>\n",
       "    </tr>\n",
       "    <tr>\n",
       "      <th>1722</th>\n",
       "      <td>등산</td>\n",
       "      <td>0.470562</td>\n",
       "    </tr>\n",
       "    <tr>\n",
       "      <th>2081</th>\n",
       "      <td>무등산에</td>\n",
       "      <td>0.482691</td>\n",
       "    </tr>\n",
       "    <tr>\n",
       "      <th>2663</th>\n",
       "      <td>서석대</td>\n",
       "      <td>0.553136</td>\n",
       "    </tr>\n",
       "    <tr>\n",
       "      <th>3583</th>\n",
       "      <td>원효사</td>\n",
       "      <td>0.576883</td>\n",
       "    </tr>\n",
       "    <tr>\n",
       "      <th>2087</th>\n",
       "      <td>무등산을</td>\n",
       "      <td>0.615701</td>\n",
       "    </tr>\n",
       "    <tr>\n",
       "      <th>94</th>\n",
       "      <td>2013</td>\n",
       "      <td>0.652672</td>\n",
       "    </tr>\n",
       "  </tbody>\n",
       "</table>\n",
       "</div>"
      ],
      "text/plain": [
       "           0      coef\n",
       "732       곳에  0.347426\n",
       "4120      정상  0.349214\n",
       "2578      산행  0.350509\n",
       "2261      버스  0.364194\n",
       "2086    무등산은  0.365083\n",
       "876   국립공원으로  0.380567\n",
       "1854     만연산  0.395351\n",
       "1554      동구  0.421446\n",
       "104     2018  0.449419\n",
       "102     2017  0.451657\n",
       "1664    드라이브  0.458961\n",
       "2965    아름다운  0.461442\n",
       "4306    중머리재  0.465274\n",
       "106     2019  0.468157\n",
       "1722      등산  0.470562\n",
       "2081    무등산에  0.482691\n",
       "2663     서석대  0.553136\n",
       "3583     원효사  0.576883\n",
       "2087    무등산을  0.615701\n",
       "94      2013  0.652672"
      ]
     },
     "execution_count": 61,
     "metadata": {},
     "output_type": "execute_result"
    }
   ],
   "source": [
    "word_dict.sort_values(by='coef').tail(20)"
   ]
  },
  {
   "cell_type": "markdown",
   "metadata": {},
   "source": [
    "##### 테스트 블로그로 검증"
   ]
  },
  {
   "cell_type": "code",
   "execution_count": 62,
   "metadata": {},
   "outputs": [],
   "source": [
    "test_blog = ['무등산 국립공원에서 무등산 화산 만연산 많은 서석대 국립공원 무등산 무등산 패밀리랜드 패밀리 랜드',\n",
    "            '무등산 국립공원에서 국립공원이',\n",
    "            '동물원 사자 호랑이 ',\n",
    "            '우치공원 패밀리랜드']"
   ]
  },
  {
   "cell_type": "code",
   "execution_count": 79,
   "metadata": {},
   "outputs": [
    {
     "data": {
      "text/plain": [
       "scipy.sparse.csr.csr_matrix"
      ]
     },
     "execution_count": 79,
     "metadata": {},
     "output_type": "execute_result"
    }
   ],
   "source": [
    "type(test_blog_transform)"
   ]
  },
  {
   "cell_type": "code",
   "execution_count": 65,
   "metadata": {},
   "outputs": [
    {
     "data": {
      "text/plain": [
       "array(['자연', '자연', '관광명소', '관광명소'], dtype=object)"
      ]
     },
     "execution_count": 65,
     "metadata": {},
     "output_type": "execute_result"
    }
   ],
   "source": [
    "result = logi_model.predict(test_blog_transform)\n",
    "result"
   ]
  },
  {
   "cell_type": "code",
   "execution_count": 66,
   "metadata": {},
   "outputs": [],
   "source": [
    "daum_blog=[\"무등산은 1972년 5월 22일 도립공원으로 지정되었으며, 2013년 3월 4일 국립공원 제21호로 지정되었다. 무등산국립공원은 전체면적 75.425㎢로 광주광역시(북구, 동구)와 전라남도(담양ㆍ화순군)에 위치하고 있다.해발1,187m의 무등산 최고봉인 천왕봉 일대는 서석대ㆍ입석대ㆍ규봉 등 수직 절리상의 암석이 석책을 두른 듯 치솟아 장관을 이룬다. 또 마치 옥새 같다 하여 이름 붙여진 새인봉은 장불재에서 서쪽 능선상에 병풍같은 바위절벽으로 이뤄져 있으며 입석대, 서석대 등 주상절리대를 포함하여 산봉ㆍ기암ㆍ괴석 등 경관자원 61개소가 분포되어 있다.\", \"또한 수달, 구렁이, 삵 등 멸종위기종 8종을 포함하여 총 2,296종이 서식하고 있으며 보물 2점 등 지정문화재 17점이 보유되어 있다.\", \n",
    "\n",
    "\"[무등산국립공원사무소ㆍ생김새 특징 : 산지 계곡에 분포하는 낙엽성 관목으로서, 3m 정도까지 자라며 봄철인 4월경 노란색 꽃이 핌ㆍ생태적 특징 : 전 세계적으로 우리나라와 일본에만 분포하며, 우리나라의 경우 무등산, 조계산 등 전라남도 일부 제한된 지역에만 자생하고 있음\"]"
   ]
  },
  {
   "cell_type": "code",
   "execution_count": 67,
   "metadata": {},
   "outputs": [
    {
     "data": {
      "text/plain": [
       "<1x5158 sparse matrix of type '<class 'numpy.int64'>'\n",
       "\twith 42 stored elements in Compressed Sparse Row format>"
      ]
     },
     "execution_count": 67,
     "metadata": {},
     "output_type": "execute_result"
    }
   ],
   "source": [
    "test_blog_transform = blog_mt_cv4.transform([daum_blog[0]])\n",
    "test_blog_transform"
   ]
  },
  {
   "cell_type": "code",
   "execution_count": 68,
   "metadata": {},
   "outputs": [
    {
     "data": {
      "text/plain": [
       "array(['자연'], dtype=object)"
      ]
     },
     "execution_count": 68,
     "metadata": {},
     "output_type": "execute_result"
    }
   ],
   "source": [
    "result = logi_model.predict(test_blog_transform)\n",
    "result"
   ]
  },
  {
   "cell_type": "code",
   "execution_count": 69,
   "metadata": {},
   "outputs": [
    {
     "data": {
      "text/plain": [
       "array(['자연'], dtype=object)"
      ]
     },
     "execution_count": 69,
     "metadata": {},
     "output_type": "execute_result"
    }
   ],
   "source": [
    "result = scv_model.predict(test_blog_transform)\n",
    "result"
   ]
  },
  {
   "cell_type": "markdown",
   "metadata": {},
   "source": [
    "# Web 서비스 모델 저장"
   ]
  },
  {
   "cell_type": "code",
   "execution_count": 51,
   "metadata": {},
   "outputs": [],
   "source": [
    "import pickle"
   ]
  },
  {
   "cell_type": "code",
   "execution_count": 74,
   "metadata": {},
   "outputs": [],
   "source": [
    "with open('model/logi_model.pkl', 'wb') as f :\n",
    "    pickle.dump(logi_model,f)"
   ]
  },
  {
   "cell_type": "code",
   "execution_count": null,
   "metadata": {},
   "outputs": [],
   "source": []
  },
  {
   "cell_type": "code",
   "execution_count": 59,
   "metadata": {},
   "outputs": [],
   "source": [
    "with open('model/blog_mt_cv3.pkl', 'wb') as f :\n",
    "    pickle.dump(blog_mt_cv3,f)"
   ]
  },
  {
   "cell_type": "code",
   "execution_count": 54,
   "metadata": {},
   "outputs": [],
   "source": [
    "daum_blog=[\"무등산은 1972년 5월 22일 도립공원으로 지정되었으며, 2013년 3월 4일 국립공원 제21호로 지정되었다. 무등산국립공원은 전체면적 75.425㎢로 광주광역시(북구, 동구)와 전라남도(담양ㆍ화순군)에 위치하고 있다.해발1,187m의 무등산 최고봉인 천왕봉 일대는 서석대ㆍ입석대ㆍ규봉 등 수직 절리상의 암석이 석책을 두른 듯 치솟아 장관을 이룬다. 또 마치 옥새 같다 하여 이름 붙여진 새인봉은 장불재에서 서쪽 능선상에 병풍같은 바위절벽으로 이뤄져 있으며 입석대, 서석대 등 주상절리대를 포함하여 산봉ㆍ기암ㆍ괴석 등 경관자원 61개소가 분포되어 있다.\", \"또한 수달, 구렁이, 삵 등 멸종위기종 8종을 포함하여 총 2,296종이 서식하고 있으며 보물 2점 등 지정문화재 17점이 보유되어 있다.\", \n",
    "\n",
    "\"[무등산국립공원사무소ㆍ생김새 특징 : 산지 계곡에 분포하는 낙엽성 관목으로서, 3m 정도까지 자라며 봄철인 4월경 노란색 꽃이 핌ㆍ생태적 특징 : 전 세계적으로 우리나라와 일본에만 분포하며, 우리나라의 경우 무등산, 조계산 등 전라남도 일부 제한된 지역에만 자생하고 있음\"]"
   ]
  },
  {
   "cell_type": "code",
   "execution_count": 55,
   "metadata": {},
   "outputs": [
    {
     "data": {
      "text/plain": [
       "<3x85335 sparse matrix of type '<class 'numpy.int64'>'\n",
       "\twith 84 stored elements in Compressed Sparse Row format>"
      ]
     },
     "execution_count": 55,
     "metadata": {},
     "output_type": "execute_result"
    }
   ],
   "source": [
    "test_blog_transform = blog_mt_cv4.transform(daum_blog)\n",
    "test_blog_transform"
   ]
  },
  {
   "cell_type": "code",
   "execution_count": 56,
   "metadata": {
    "collapsed": true
   },
   "outputs": [
    {
     "ename": "ValueError",
     "evalue": "X has 85335 features per sample; expecting 85363",
     "output_type": "error",
     "traceback": [
      "\u001b[1;31m---------------------------------------------------------------------------\u001b[0m",
      "\u001b[1;31mValueError\u001b[0m                                Traceback (most recent call last)",
      "\u001b[1;32m<ipython-input-56-c2c75a915430>\u001b[0m in \u001b[0;36m<module>\u001b[1;34m\u001b[0m\n\u001b[1;32m----> 1\u001b[1;33m \u001b[0mresult\u001b[0m \u001b[1;33m=\u001b[0m \u001b[0mlogi_model\u001b[0m\u001b[1;33m.\u001b[0m\u001b[0mpredict\u001b[0m\u001b[1;33m(\u001b[0m\u001b[0mtest_blog_transform\u001b[0m\u001b[1;33m)\u001b[0m\u001b[1;33m\u001b[0m\u001b[1;33m\u001b[0m\u001b[0m\n\u001b[0m\u001b[0;32m      2\u001b[0m \u001b[0mresult\u001b[0m\u001b[1;33m\u001b[0m\u001b[1;33m\u001b[0m\u001b[0m\n",
      "\u001b[1;32m~\\Anaconda3\\lib\\site-packages\\sklearn\\linear_model\\_base.py\u001b[0m in \u001b[0;36mpredict\u001b[1;34m(self, X)\u001b[0m\n\u001b[0;32m    291\u001b[0m             \u001b[0mPredicted\u001b[0m \u001b[1;32mclass\u001b[0m \u001b[0mlabel\u001b[0m \u001b[0mper\u001b[0m \u001b[0msample\u001b[0m\u001b[1;33m.\u001b[0m\u001b[1;33m\u001b[0m\u001b[1;33m\u001b[0m\u001b[0m\n\u001b[0;32m    292\u001b[0m         \"\"\"\n\u001b[1;32m--> 293\u001b[1;33m         \u001b[0mscores\u001b[0m \u001b[1;33m=\u001b[0m \u001b[0mself\u001b[0m\u001b[1;33m.\u001b[0m\u001b[0mdecision_function\u001b[0m\u001b[1;33m(\u001b[0m\u001b[0mX\u001b[0m\u001b[1;33m)\u001b[0m\u001b[1;33m\u001b[0m\u001b[1;33m\u001b[0m\u001b[0m\n\u001b[0m\u001b[0;32m    294\u001b[0m         \u001b[1;32mif\u001b[0m \u001b[0mlen\u001b[0m\u001b[1;33m(\u001b[0m\u001b[0mscores\u001b[0m\u001b[1;33m.\u001b[0m\u001b[0mshape\u001b[0m\u001b[1;33m)\u001b[0m \u001b[1;33m==\u001b[0m \u001b[1;36m1\u001b[0m\u001b[1;33m:\u001b[0m\u001b[1;33m\u001b[0m\u001b[1;33m\u001b[0m\u001b[0m\n\u001b[0;32m    295\u001b[0m             \u001b[0mindices\u001b[0m \u001b[1;33m=\u001b[0m \u001b[1;33m(\u001b[0m\u001b[0mscores\u001b[0m \u001b[1;33m>\u001b[0m \u001b[1;36m0\u001b[0m\u001b[1;33m)\u001b[0m\u001b[1;33m.\u001b[0m\u001b[0mastype\u001b[0m\u001b[1;33m(\u001b[0m\u001b[0mnp\u001b[0m\u001b[1;33m.\u001b[0m\u001b[0mint\u001b[0m\u001b[1;33m)\u001b[0m\u001b[1;33m\u001b[0m\u001b[1;33m\u001b[0m\u001b[0m\n",
      "\u001b[1;32m~\\Anaconda3\\lib\\site-packages\\sklearn\\linear_model\\_base.py\u001b[0m in \u001b[0;36mdecision_function\u001b[1;34m(self, X)\u001b[0m\n\u001b[0;32m    271\u001b[0m         \u001b[1;32mif\u001b[0m \u001b[0mX\u001b[0m\u001b[1;33m.\u001b[0m\u001b[0mshape\u001b[0m\u001b[1;33m[\u001b[0m\u001b[1;36m1\u001b[0m\u001b[1;33m]\u001b[0m \u001b[1;33m!=\u001b[0m \u001b[0mn_features\u001b[0m\u001b[1;33m:\u001b[0m\u001b[1;33m\u001b[0m\u001b[1;33m\u001b[0m\u001b[0m\n\u001b[0;32m    272\u001b[0m             raise ValueError(\"X has %d features per sample; expecting %d\"\n\u001b[1;32m--> 273\u001b[1;33m                              % (X.shape[1], n_features))\n\u001b[0m\u001b[0;32m    274\u001b[0m \u001b[1;33m\u001b[0m\u001b[0m\n\u001b[0;32m    275\u001b[0m         scores = safe_sparse_dot(X, self.coef_.T,\n",
      "\u001b[1;31mValueError\u001b[0m: X has 85335 features per sample; expecting 85363"
     ]
    }
   ],
   "source": [
    "result = logi_model.predict(test_blog_transform)\n",
    "result"
   ]
  },
  {
   "cell_type": "code",
   "execution_count": null,
   "metadata": {},
   "outputs": [],
   "source": []
  },
  {
   "cell_type": "code",
   "execution_count": null,
   "metadata": {
    "scrolled": true
   },
   "outputs": [
    {
     "name": "stdout",
     "output_type": "stream",
     "text": [
      " * Serving Flask app \"__main__\" (lazy loading)\n",
      " * Environment: production\n",
      "   WARNING: This is a development server. Do not use it in a production deployment.\n",
      "   Use a production WSGI server instead.\n",
      " * Debug mode: off\n"
     ]
    },
    {
     "name": "stderr",
     "output_type": "stream",
     "text": [
      " * Running on http://127.0.0.1:9090/ (Press CTRL+C to quit)\n"
     ]
    },
    {
     "name": "stdout",
     "output_type": "stream",
     "text": [
      "ImmutableMultiDict([('contents', 'ptest2/pdiv id=\"1\"h1External Shared Toolbar/h1pYou can have more than one editor instance on the same page.However, this will not affect the editing experience. You can evendrag and drop images from one editor to the other./ppbr/ppimg src=\"http://localhost:8087/img/a/star.jpg\" style=\"width: 300px;\" class=\"fr-fic fr-dib fr-draggable\"img src=\"http://localhost:8087/img/a/limit.jpg\" style=\"width: 300px;\" class=\"fr-fic fr-dib fr-draggable\"/p/div/div'), ('email', 'a')])\n"
     ]
    },
    {
     "data": {
      "text/plain": [
       "['ptest2/pdiv id=\"1\"h1External Shared Toolbar/h1pYou can have more than one editor instance on the same page.However, this will not affect the editing experience. You can evendrag and drop images from one editor to the other./ppbr/ppimg src=\"http://localhost:8087/img/a/star.jpg\" style=\"width: 300px;\" class=\"fr-fic fr-dib fr-draggable\"img src=\"http://localhost:8087/img/a/limit.jpg\" style=\"width: 300px;\" class=\"fr-fic fr-dib fr-draggable\"/p/div/div']"
      ]
     },
     "metadata": {},
     "output_type": "display_data"
    },
    {
     "name": "stdout",
     "output_type": "stream",
     "text": [
      "pre   (0, 4193)\t1\n",
      "  (0, 4349)\t2\n",
      "  (0, 4438)\t1\n",
      "  (0, 4527)\t6\n",
      "  (0, 4530)\t1\n",
      "  (0, 4638)\t2\n",
      "  (0, 4658)\t3\n",
      "  (0, 4716)\t2\n",
      "  (0, 5013)\t1\n",
      "  (0, 5015)\t2\n",
      "  (0, 5029)\t1\n",
      "  (0, 5037)\t1\n",
      "  (0, 5223)\t2\n",
      "  (0, 5241)\t2\n",
      "  (0, 5280)\t3\n",
      "  (0, 5283)\t1\n",
      "  (0, 5298)\t1\n",
      "  (0, 5442)\t1\n"
     ]
    },
    {
     "data": {
      "text/plain": [
       "<1x85363 sparse matrix of type '<class 'numpy.int64'>'\n",
       "\twith 18 stored elements in Compressed Sparse Row format>"
      ]
     },
     "metadata": {},
     "output_type": "display_data"
    },
    {
     "name": "stderr",
     "output_type": "stream",
     "text": [
      "127.0.0.1 - - [25/Aug/2020 21:56:59] \"\u001b[37mPOST /diary/predict HTTP/1.1\u001b[0m\" 200 -\n"
     ]
    },
    {
     "name": "stdout",
     "output_type": "stream",
     "text": [
      "last ['관광명소']\n",
      "<class 'numpy.ndarray'>\n"
     ]
    }
   ],
   "source": [
    "from flask import Flask ,render_template\n",
    "from flask import request, redirect\n",
    "import pickle \n",
    "import pandas as pd\n",
    "import numpy as np\n",
    "\n",
    "app = Flask(__name__)\n",
    "\n",
    "with open(\"model/blog_mt_cv3.pkl\", \"rb\") as f :\n",
    "    col = pickle.load(f)\n",
    "\n",
    "with open('model/logi_model.pkl','rb') as f :\n",
    "    model = pickle.load(f)\n",
    "    \n",
    "@app.route(\"/diary/predict\", methods=['POST'])\n",
    "def predict_dairy():\n",
    "    print(request.form)\n",
    "\n",
    "    display([request.form['contents']])\n",
    "    pre = col.transform([request.form['contents']])\n",
    "    print(\"pre\", pre)\n",
    "    last = model.predict(pre)\n",
    "    display(pre)\n",
    "    print(\"last\", last)\n",
    "    print(type(last))\n",
    "    # out=np.array_str(last)\n",
    "    #print(type(out))\n",
    "    #return jsonify({\"res\" : last[0]})\n",
    "    \n",
    "    return render_template('result.html?advice='+str(last[0])+\"&email=\"+request.form['email'])\n",
    "    return redirect(\"http://127.0.0.1:8087/MZ/MachineLearningResult.jsp?advice=\"+str(last[0])+\"&email=\"+request.form['email'])\n",
    "if __name__ == \"__main__\" :\n",
    "    app.run(host = \"127.0.0.1\", port=\"9090\")"
   ]
  },
  {
   "cell_type": "code",
   "execution_count": null,
   "metadata": {},
   "outputs": [],
   "source": []
  },
  {
   "cell_type": "code",
   "execution_count": null,
   "metadata": {},
   "outputs": [],
   "source": []
  },
  {
   "cell_type": "code",
   "execution_count": null,
   "metadata": {},
   "outputs": [],
   "source": []
  },
  {
   "cell_type": "code",
   "execution_count": null,
   "metadata": {},
   "outputs": [],
   "source": []
  },
  {
   "cell_type": "code",
   "execution_count": null,
   "metadata": {},
   "outputs": [],
   "source": []
  },
  {
   "cell_type": "code",
   "execution_count": null,
   "metadata": {},
   "outputs": [],
   "source": []
  },
  {
   "cell_type": "code",
   "execution_count": null,
   "metadata": {},
   "outputs": [],
   "source": []
  },
  {
   "cell_type": "code",
   "execution_count": null,
   "metadata": {},
   "outputs": [],
   "source": []
  },
  {
   "cell_type": "code",
   "execution_count": null,
   "metadata": {},
   "outputs": [],
   "source": []
  },
  {
   "cell_type": "code",
   "execution_count": null,
   "metadata": {},
   "outputs": [],
   "source": []
  },
  {
   "cell_type": "code",
   "execution_count": null,
   "metadata": {},
   "outputs": [],
   "source": []
  },
  {
   "cell_type": "code",
   "execution_count": null,
   "metadata": {},
   "outputs": [],
   "source": []
  },
  {
   "cell_type": "code",
   "execution_count": null,
   "metadata": {},
   "outputs": [],
   "source": []
  },
  {
   "cell_type": "code",
   "execution_count": null,
   "metadata": {},
   "outputs": [],
   "source": []
  },
  {
   "cell_type": "code",
   "execution_count": null,
   "metadata": {},
   "outputs": [],
   "source": []
  },
  {
   "cell_type": "code",
   "execution_count": null,
   "metadata": {},
   "outputs": [],
   "source": []
  },
  {
   "cell_type": "markdown",
   "metadata": {},
   "source": [
    "##### 모델 튜닝하기"
   ]
  },
  {
   "cell_type": "code",
   "execution_count": 51,
   "metadata": {},
   "outputs": [
    {
     "name": "stdout",
     "output_type": "stream",
     "text": [
      "규제 :  0.001 / 점수 :  0.8628571428571428\n",
      "규제 :  0.01 / 점수 :  0.9314285714285715\n",
      "규제 :  0.1 / 점수 :  0.9485714285714286\n",
      "규제 :  1 / 점수 :  0.9531428571428572\n",
      "규제 :  10 / 점수 :  0.9542857142857143\n",
      "규제 :  100 / 점수 :  0.9508571428571428\n",
      "규제 :  1000 / 점수 :  0.9508571428571428\n"
     ]
    }
   ],
   "source": [
    "for c in [0.001,0.01,0.1,1,10,100,1000]: # 작은 수 일 수록 규제가 크므로 현재 코드는 규제가 강한것->약한것, '1'은 기본값\n",
    "    result = cross_val_score(LogisticRegression(C = c),  # 괄호 안에는 테스트 모델(C = 규제 파라미터, C에 c를 대입)이 첫번째\n",
    "                            X_train_transform,\n",
    "                            y_train,\n",
    "                            cv=5)  \n",
    "    print(\"규제 : \", c,\"/ 점수 : \", result.mean())"
   ]
  },
  {
   "cell_type": "code",
   "execution_count": 52,
   "metadata": {},
   "outputs": [
    {
     "name": "stdout",
     "output_type": "stream",
     "text": [
      "규제 :  0.001 / 점수 :  0.9325714285714286\n",
      "규제 :  0.01 / 점수 :  0.9565714285714286\n",
      "규제 :  0.1 / 점수 :  0.9485714285714286\n",
      "규제 :  1 / 점수 :  0.9474285714285713\n",
      "규제 :  10 / 점수 :  0.9474285714285713\n",
      "규제 :  100 / 점수 :  0.9474285714285713\n",
      "규제 :  1000 / 점수 :  0.9474285714285713\n"
     ]
    }
   ],
   "source": [
    "for c in [0.001,0.01,0.1,1,10,100,1000]: \n",
    "    result = cross_val_score(LinearSVC(C = c), \n",
    "                            X_train_transform,\n",
    "                            y_train,\n",
    "                            cv=5)  \n",
    "    print(\"규제 : \", c,\"/ 점수 : \", result.mean())"
   ]
  },
  {
   "cell_type": "markdown",
   "metadata": {},
   "source": [
    "##### 모델 평가하기"
   ]
  },
  {
   "cell_type": "code",
   "execution_count": 48,
   "metadata": {
    "scrolled": true
   },
   "outputs": [
    {
     "data": {
      "text/plain": [
       "0.9946808510638298"
      ]
     },
     "execution_count": 48,
     "metadata": {},
     "output_type": "execute_result"
    }
   ],
   "source": [
    "logi_model.fit(X_train_transform, y_train)\n",
    "logi_model.score(X_test_transform, y_test)"
   ]
  },
  {
   "cell_type": "code",
   "execution_count": 58,
   "metadata": {},
   "outputs": [
    {
     "data": {
      "text/plain": [
       "(875, 85363)"
      ]
     },
     "execution_count": 58,
     "metadata": {},
     "output_type": "execute_result"
    }
   ],
   "source": [
    "X_train_transform.shape"
   ]
  },
  {
   "cell_type": "code",
   "execution_count": 49,
   "metadata": {
    "scrolled": true
   },
   "outputs": [
    {
     "data": {
      "text/plain": [
       "0.9946808510638298"
      ]
     },
     "execution_count": 49,
     "metadata": {},
     "output_type": "execute_result"
    }
   ],
   "source": [
    "scv_model = LinearSVC(C=0.1)\n",
    "scv_model.fit(X_train_transform, y_train)\n",
    "scv_model.score(X_test_transform, y_test)  "
   ]
  },
  {
   "cell_type": "code",
   "execution_count": null,
   "metadata": {},
   "outputs": [],
   "source": []
  },
  {
   "cell_type": "code",
   "execution_count": null,
   "metadata": {},
   "outputs": [],
   "source": []
  },
  {
   "cell_type": "code",
   "execution_count": null,
   "metadata": {},
   "outputs": [],
   "source": []
  },
  {
   "cell_type": "markdown",
   "metadata": {},
   "source": [
    "##### KNN 모델 평가"
   ]
  },
  {
   "cell_type": "code",
   "execution_count": null,
   "metadata": {},
   "outputs": [],
   "source": [
    "from sklearn.neighbors import KNeighborsClassifier"
   ]
  },
  {
   "cell_type": "code",
   "execution_count": null,
   "metadata": {},
   "outputs": [],
   "source": [
    "knn_model = KNeighborsClassifier()"
   ]
  },
  {
   "cell_type": "code",
   "execution_count": null,
   "metadata": {},
   "outputs": [],
   "source": [
    "knn_model.fit(X_train_transform, y_train)\n",
    "knn_model.score(X_test_transform, y_test)"
   ]
  },
  {
   "cell_type": "code",
   "execution_count": null,
   "metadata": {},
   "outputs": [],
   "source": [
    "for k in range(1, 10, 2):    # 0이 많으면 KNN 모델은 점수도 낮고 속도도 느림\n",
    "    result = cross_val_score(KNeighborsClassifier(n_neighbors=k), \n",
    "                            X_train_transform,\n",
    "                            y_train,\n",
    "                            cv=5)  \n",
    "    print(\"이웃 수 : \", k,\"/ 점수 : \", result.mean())"
   ]
  },
  {
   "cell_type": "markdown",
   "metadata": {},
   "source": [
    "# 타 데이터로 비교"
   ]
  },
  {
   "cell_type": "code",
   "execution_count": null,
   "metadata": {},
   "outputs": [],
   "source": [
    "art=[]"
   ]
  },
  {
   "cell_type": "code",
   "execution_count": null,
   "metadata": {},
   "outputs": [],
   "source": [
    "art.append(pd.read_csv('광주시립미술관1.csv', index_col='0'))\n",
    "art.append(pd.read_csv('광주시립미술관2.csv', index_col='0'))\n",
    "art.append(pd.read_csv('광주시립미술관3.csv', index_col='0'))\n",
    "art.append(pd.read_csv('광주시립미술관4.csv', index_col='0'))\n",
    "art.append(pd.read_csv('광주시립미술관5.csv', index_col='0'))\n",
    "art.append(pd.read_csv('광주시립미술관6.csv', index_col='0'))\n"
   ]
  },
  {
   "cell_type": "code",
   "execution_count": null,
   "metadata": {},
   "outputs": [],
   "source": [
    "art=pd.concat(art)"
   ]
  },
  {
   "cell_type": "code",
   "execution_count": null,
   "metadata": {},
   "outputs": [],
   "source": [
    "art.shape"
   ]
  },
  {
   "cell_type": "code",
   "execution_count": null,
   "metadata": {},
   "outputs": [],
   "source": [
    "korean_stop_words = pd.read_csv('한국어불용어100.txt', \n",
    "                                delimiter='\\t',\n",
    "                               header = None)\n",
    "korean_stop_words"
   ]
  },
  {
   "cell_type": "code",
   "execution_count": null,
   "metadata": {
    "scrolled": true
   },
   "outputs": [],
   "source": [
    "korean_stop_words_list = korean_stop_words[0].tolist() # 시리즈를 파이썬의 리스트 형식으로 변환\n",
    "korean_stop_words_list"
   ]
  },
  {
   "cell_type": "code",
   "execution_count": null,
   "metadata": {},
   "outputs": [],
   "source": [
    "art_cv = CountVectorizer(stop_words=korean_stop_words_list)\n",
    "art_cv"
   ]
  },
  {
   "cell_type": "code",
   "execution_count": null,
   "metadata": {},
   "outputs": [],
   "source": [
    "type(art)"
   ]
  },
  {
   "cell_type": "code",
   "execution_count": null,
   "metadata": {},
   "outputs": [],
   "source": [
    "len(art)"
   ]
  },
  {
   "cell_type": "code",
   "execution_count": null,
   "metadata": {},
   "outputs": [],
   "source": [
    "art = art.reset_index()"
   ]
  },
  {
   "cell_type": "code",
   "execution_count": null,
   "metadata": {},
   "outputs": [],
   "source": [
    "art"
   ]
  },
  {
   "cell_type": "code",
   "execution_count": null,
   "metadata": {},
   "outputs": [],
   "source": [
    "art_cv = CountVectorizer()"
   ]
  },
  {
   "cell_type": "code",
   "execution_count": null,
   "metadata": {},
   "outputs": [],
   "source": [
    "art.info()"
   ]
  },
  {
   "cell_type": "code",
   "execution_count": null,
   "metadata": {},
   "outputs": [],
   "source": [
    "art.iloc[0]"
   ]
  },
  {
   "cell_type": "code",
   "execution_count": null,
   "metadata": {},
   "outputs": [],
   "source": [
    "art.iloc[:1]"
   ]
  },
  {
   "cell_type": "code",
   "execution_count": null,
   "metadata": {},
   "outputs": [],
   "source": [
    "art['0']"
   ]
  },
  {
   "cell_type": "code",
   "execution_count": null,
   "metadata": {
    "scrolled": true
   },
   "outputs": [],
   "source": [
    "art_cv.fit(art['0'])"
   ]
  },
  {
   "cell_type": "code",
   "execution_count": null,
   "metadata": {
    "scrolled": true
   },
   "outputs": [],
   "source": [
    "len(art_cv.vocabulary_)"
   ]
  },
  {
   "cell_type": "code",
   "execution_count": null,
   "metadata": {},
   "outputs": [],
   "source": [
    "art_cv2 = CountVectorizer(stop_words=korean_stop_words_list)\n",
    "art_cv2"
   ]
  },
  {
   "cell_type": "code",
   "execution_count": null,
   "metadata": {},
   "outputs": [],
   "source": [
    "art_cv2.fit(art['0'])"
   ]
  },
  {
   "cell_type": "code",
   "execution_count": null,
   "metadata": {},
   "outputs": [],
   "source": [
    "len(art_cv2.vocabulary_)"
   ]
  },
  {
   "cell_type": "code",
   "execution_count": null,
   "metadata": {},
   "outputs": [],
   "source": [
    "art_cv3 = CountVectorizer(stop_words=korean_stop_words_list,\n",
    "                         min_df = 2,\n",
    "                         max_df = 0.7)"
   ]
  },
  {
   "cell_type": "code",
   "execution_count": null,
   "metadata": {},
   "outputs": [],
   "source": [
    "art_cv3.fit(art['0'])"
   ]
  },
  {
   "cell_type": "code",
   "execution_count": null,
   "metadata": {},
   "outputs": [],
   "source": [
    "len(art_cv3.vocabulary_)"
   ]
  },
  {
   "cell_type": "code",
   "execution_count": null,
   "metadata": {},
   "outputs": [],
   "source": [
    "art_cv_transform = art_cv3.transform(art['0'])\n",
    "art_cv_transform"
   ]
  },
  {
   "cell_type": "code",
   "execution_count": null,
   "metadata": {},
   "outputs": [],
   "source": [
    "type(art_cv2)"
   ]
  },
  {
   "cell_type": "code",
   "execution_count": null,
   "metadata": {},
   "outputs": [],
   "source": []
  },
  {
   "cell_type": "code",
   "execution_count": null,
   "metadata": {},
   "outputs": [],
   "source": []
  },
  {
   "cell_type": "code",
   "execution_count": null,
   "metadata": {},
   "outputs": [],
   "source": []
  },
  {
   "cell_type": "code",
   "execution_count": null,
   "metadata": {},
   "outputs": [],
   "source": []
  },
  {
   "cell_type": "code",
   "execution_count": null,
   "metadata": {
    "scrolled": true
   },
   "outputs": [],
   "source": [
    "logi_model.predict(X_test_transform)"
   ]
  },
  {
   "cell_type": "code",
   "execution_count": null,
   "metadata": {
    "scrolled": true
   },
   "outputs": [],
   "source": [
    "logi_model.predict(art_cv2)"
   ]
  },
  {
   "cell_type": "code",
   "execution_count": null,
   "metadata": {},
   "outputs": [],
   "source": [
    "scv_model.predict(art_cv_transform)"
   ]
  },
  {
   "cell_type": "code",
   "execution_count": null,
   "metadata": {
    "scrolled": true
   },
   "outputs": [],
   "source": [
    "knn_model.predict(art_cv_transform)"
   ]
  },
  {
   "cell_type": "code",
   "execution_count": null,
   "metadata": {},
   "outputs": [],
   "source": [
    "reviews = ['러닝타임이 길었지만 영화의 무게와 유머가 적절히 버물여져서 금방 끝나버렸습니다~재밌다는 얘기지요~강철비2 짱!!', \n",
    "           '아이는 죄가 없고 어른은 죄가 있다. 이걸보고도 신이 존재한다고 생각하는지 의심이 든다', \n",
    "           '멜로? 호러? 액션? 뭐지 라고 생각하게 되는영화..짬뽕도 이런 짬뽕도 없다. 좀비물로생각했단 호되게 당한다. 갑자기 매드맥스가 생각난다. 갑자기 눈물을 호소한다.아주 당혹스럽다..이 영화. 감독 뭘 이야기 하려는거지!!그리고 마지막엔 그 많턴 좀비들 어디갔지..취누크 헬기 그 소리면 전국에 있는 좀비 다 달려 왔어야 하는데 킬링타임도 아까움', \n",
    "           '시간이 어케 지나갔는지 모르겠어요 몰입감 장난 아니에요', \n",
    "           '1)강철비1이랑 전혀 이어지지 않는다. 이럴거면 왜 2인지 모르겠다. 스토리 이어질거라고 생각하고 봐서 그런지 초반부터 몰입도 가 무지 떨어졌다. 2)미국정부와 대통령을 이래도 되나 싶을 정도로 너무 과하게 비하했다. 미통령의 대사, 행동 하나하나 반미감정이 많이 섞여있는 것 같아서 보기 불쾌했다. 3)유연*의 북위원장 역할.. 캐스팅 미친듯이 미스매치. 몰입이 안됨. 이건 말이 아니되오4)손발이 오그라드는 개그들.. 웃어야할지 울어야할지 모르겠다. 보는 내가 다 어색해진다...- 전체적으로 너무 아쉬움. 정치색 너무 짙고, 어설프게 반미, 반일감정 일으키느라 애쓰는 영화. 왜 흥행하고 있는지 이해가 안간다.',\n",
    "           '후속작은 보이캅스~!!',\n",
    "          '이런 된장 쌈장 고추장',\n",
    "          '재미가 있을까',\n",
    "          '잼남',\n",
    "          '닝기미',\n",
    "          '내이름은',\n",
    "          '영화 이름이...',\n",
    "          '별로지만 추천']\n",
    "reviews_transform = art_cv.transform(reviews)\n",
    "reviews_transform"
   ]
  },
  {
   "cell_type": "code",
   "execution_count": null,
   "metadata": {},
   "outputs": [],
   "source": [
    "result = knn_model.predict(reviews_transform)\n",
    "result"
   ]
  },
  {
   "cell_type": "code",
   "execution_count": null,
   "metadata": {},
   "outputs": [],
   "source": []
  }
 ],
 "metadata": {
  "kernelspec": {
   "display_name": "Python 3",
   "language": "python",
   "name": "python3"
  },
  "language_info": {
   "codemirror_mode": {
    "name": "ipython",
    "version": 3
   },
   "file_extension": ".py",
   "mimetype": "text/x-python",
   "name": "python",
   "nbconvert_exporter": "python",
   "pygments_lexer": "ipython3",
   "version": "3.7.6"
  }
 },
 "nbformat": 4,
 "nbformat_minor": 4
}
